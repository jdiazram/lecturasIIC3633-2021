{
  "nbformat": 4,
  "nbformat_minor": 0,
  "metadata": {
    "colab": {
      "name": "HT4Rec-JDR.ipynb",
      "provenance": [],
      "collapsed_sections": [],
      "include_colab_link": true
    },
    "kernelspec": {
      "name": "python3",
      "display_name": "Python 3"
    },
    "language_info": {
      "name": "python"
    },
    "accelerator": "GPU"
  },
  "cells": [
    {
      "cell_type": "markdown",
      "metadata": {
        "id": "view-in-github",
        "colab_type": "text"
      },
      "source": [
        "<a href=\"https://colab.research.google.com/github/jdiazram/lecturasIIC3633-2021/blob/main/practicos/HT4Rec_JDR.ipynb\" target=\"_parent\"><img src=\"https://colab.research.google.com/assets/colab-badge.svg\" alt=\"Open In Colab\"/></a>"
      ]
    },
    {
      "cell_type": "markdown",
      "metadata": {
        "id": "ZZujf16p_c2y"
      },
      "source": [
        "# H-Transformer for Item Recommendation in MOBA Games\n",
        "\n",
        "Vladimir Araujo"
      ]
    },
    {
      "cell_type": "markdown",
      "metadata": {
        "id": "ybR1dWGRAIda"
      },
      "source": [
        "## Dependencies"
      ]
    },
    {
      "cell_type": "code",
      "metadata": {
        "id": "BKIBwjERa-dT",
        "colab": {
          "base_uri": "https://localhost:8080/"
        },
        "outputId": "34341983-198f-4ca4-ba4b-303600faa88b"
      },
      "source": [
        "!pip install python-box\n",
        "!wget https://gist.githubusercontent.com/vgaraujov/47ef44430fdbcc95dcb6c87233c3ef92/raw/97c4608ee2b62c77929784e0d07e05ff27b56ee4/drive_download.py"
      ],
      "execution_count": 1,
      "outputs": [
        {
          "output_type": "stream",
          "name": "stdout",
          "text": [
            "Collecting python-box\n",
            "  Downloading python_box-5.4.1-py3-none-any.whl (21 kB)\n",
            "Installing collected packages: python-box\n",
            "Successfully installed python-box-5.4.1\n",
            "--2021-11-11 14:48:09--  https://gist.githubusercontent.com/vgaraujov/47ef44430fdbcc95dcb6c87233c3ef92/raw/97c4608ee2b62c77929784e0d07e05ff27b56ee4/drive_download.py\n",
            "Resolving gist.githubusercontent.com (gist.githubusercontent.com)... 185.199.108.133, 185.199.109.133, 185.199.110.133, ...\n",
            "Connecting to gist.githubusercontent.com (gist.githubusercontent.com)|185.199.108.133|:443... connected.\n",
            "HTTP request sent, awaiting response... 200 OK\n",
            "Length: 2392 (2.3K) [text/plain]\n",
            "Saving to: ‘drive_download.py’\n",
            "\n",
            "drive_download.py   100%[===================>]   2.34K  --.-KB/s    in 0s      \n",
            "\n",
            "2021-11-11 14:48:09 (53.7 MB/s) - ‘drive_download.py’ saved [2392/2392]\n",
            "\n"
          ]
        }
      ]
    },
    {
      "cell_type": "code",
      "metadata": {
        "id": "3FBcRa_eWsTO"
      },
      "source": [
        "from pydrive.auth import GoogleAuth\n",
        "from pydrive.drive import GoogleDrive\n",
        "from google.colab import auth\n",
        "from oauth2client.client import GoogleCredentials\n",
        "# Authenticate and create the PyDrive client.\n",
        "# This only needs to be done once per notebook.\n",
        "auth.authenticate_user()\n",
        "gauth = GoogleAuth()\n",
        "gauth.credentials = GoogleCredentials.get_application_default()\n",
        "drive = GoogleDrive(gauth)"
      ],
      "execution_count": 2,
      "outputs": []
    },
    {
      "cell_type": "code",
      "metadata": {
        "id": "PzgP0fnAa-3f",
        "colab": {
          "base_uri": "https://localhost:8080/"
        },
        "outputId": "a208deef-cfa9-40b8-923d-64b573e54661"
      },
      "source": [
        "import drive_download\n",
        "\n",
        "idx = '19oln5xzNGI50KwO7kIP3HADQOeIXMW-R'\n",
        "drive_download.drive_download(drive, idx)"
      ],
      "execution_count": 3,
      "outputs": [
        {
          "output_type": "stream",
          "name": "stdout",
          "text": [
            "DOWNLOADING: drive_download/HTransformerV3-2021-10-30_04_30_23-model_best.pth\n",
            "DOWNLOADING: drive_download/train.py\n",
            "DOWNLOADING: drive_download/validation.py\n",
            "DOWNLOADING: drive_download/config.yaml\n",
            "DOWNLOADING: drive_download/logger.py\n",
            "DOWNLOADING: drive_download/model_aux.py\n",
            "DOWNLOADING: drive_download/utils.py\n",
            "DOWNLOADING: drive_download/torch_aux.py\n",
            "DOWNLOADING: drive_download/seed.py\n",
            "DOWNLOADING: drive_download/metrics.py\n",
            "DOWNLOADING: drive_download/losses.py\n",
            "DOWNLOADING: drive_download/dataset.py\n",
            "DOWNLOADING: drive_download/training_all.pkl\n",
            "DOWNLOADING: drive_download/testing_all.pkl\n",
            "DOWNLOADING: drive_download/hero_names.csv\n",
            "DOWNLOADING: drive_download/item_ids.csv\n"
          ]
        }
      ]
    },
    {
      "cell_type": "code",
      "metadata": {
        "id": "eboJpTf7fSN3"
      },
      "source": [
        "!mv drive_download/* ."
      ],
      "execution_count": 4,
      "outputs": []
    },
    {
      "cell_type": "code",
      "metadata": {
        "id": "gTPvgHwFQJs_"
      },
      "source": [
        "import time\n",
        "import os\n",
        "import logging\n",
        "import yaml\n",
        "from timeit import default_timer as timer\n",
        "\n",
        "## Libraries\n",
        "import numpy as np\n",
        "from box import box_from_file\n",
        "from pathlib import Path\n",
        "\n",
        "## Torch\n",
        "import torch\n",
        "import torch.nn as nn\n",
        "from torch.utils import data\n",
        "import torch.optim as optim\n",
        "\n",
        "## Custom Imports\n",
        "from logger import setup_logs\n",
        "from seed import set_seed\n",
        "from train import train, snapshot\n",
        "from validation import validation\n",
        "from dataset import DotaDataset, DataCollatorForDota\n",
        "from model_aux import HTransformer\n",
        "import losses"
      ],
      "execution_count": 5,
      "outputs": []
    },
    {
      "cell_type": "markdown",
      "metadata": {
        "id": "jGJmV8y0BwdZ"
      },
      "source": [
        "## Training Model"
      ]
    },
    {
      "cell_type": "code",
      "metadata": {
        "id": "_1OG_Wy_d7Fr"
      },
      "source": [
        "############ Control Center and Hyperparameter ###############\n",
        "config = box_from_file(Path('config.yaml'), file_type='yaml')\n",
        "config.training.logging_dir = '.'\n",
        "config.dataset.train_data_path = '/content/training_all.pkl'\n",
        "config.dataset.test_data_path = '/content/testing_all.pkl'\n",
        "config.dataset.item_path = '/content/item_ids.csv'\n",
        "config.dataset.champ_path = '/content/hero_names.csv'"
      ],
      "execution_count": 6,
      "outputs": []
    },
    {
      "cell_type": "code",
      "metadata": {
        "id": "5Ze3ArW1k5xW",
        "colab": {
          "base_uri": "https://localhost:8080/"
        },
        "outputId": "4f6de843-6613-45a4-b669-09bf581a2929"
      },
      "source": [
        "run_name = config.model.model_type + time.strftime(\"-%Y-%m-%d_%H_%M_%S\")\n",
        "# setup logger    \n",
        "global_timer = timer() # global timer\n",
        "logger = setup_logs(config.training.logging_dir, run_name) # setup logs\n",
        "logger.info('### Experiment {} ###'.format(run_name))\n",
        "logger.info('### Hyperparameter summary below ###\\n {}'.format(config))\n",
        "    \n",
        "# define if gpu or cpu\n",
        "use_cuda = not config.training.no_cuda and torch.cuda.is_available()\n",
        "device = torch.device(\"cuda\" if use_cuda else \"cpu\")\n",
        "logger.info('===> use_cuda is {}'.format(use_cuda))\n",
        "# set seed for reproducibility\n",
        "set_seed(config.training.seed, use_cuda)"
      ],
      "execution_count": 7,
      "outputs": [
        {
          "output_type": "stream",
          "name": "stderr",
          "text": [
            "### Experiment HTransformer-2021-11-11_14_50_12 ###\n",
            "### Hyperparameter summary below ###\n",
            " {'training': {'logging_dir': '.', 'log_interval': 100, 'epochs': 50, 'batch_size': 100, 'no_cuda': False, 'multigpu': False, 'seed': 42, 'resume_name': False}, 'comet': {'api_key': '6oPfzhw55BucwZ4m8rV62ppyw', 'previous_experiment': False}, 'dataset': {'train_data_path': '/content/training_all.pkl', 'test_data_path': '/content/testing_all.pkl', 'item_path': '/content/item_ids.csv', 'champ_path': '/content/hero_names.csv', 'max_seq_length': 60}, 'model': {'layers1': 1, 'layers2': 1, 'emb_dim': 512, 'n_heads': 4, 'activation': False, 'emb_fusion': 'concat', 'model_type': 'HTransformer', 'loss_fn': 'CrossEntropy', 'user': True, 'pe': True}}\n",
            "===> use_cuda is True\n"
          ]
        }
      ]
    },
    {
      "cell_type": "code",
      "metadata": {
        "id": "b5_MPUo3k6m3",
        "colab": {
          "base_uri": "https://localhost:8080/"
        },
        "outputId": "63e89ba1-9f45-463b-a5c5-eba5b1604a23"
      },
      "source": [
        "## Loading the dataset\n",
        "logger.info('===> loading train and validation dataset')\n",
        "train_dataset = DotaDataset(config, 'train')\n",
        "validation_dataset = DotaDataset(config, 'test')\n",
        "\n",
        "data_collator = DataCollatorForDota(max_length = config.dataset.max_seq_length)\n",
        "\n",
        "multiplier = torch.cuda.device_count() if not config.training.no_cuda else 1\n",
        "batch_size = int(config.training.batch_size*multiplier)\n",
        "train_loader = data.DataLoader(train_dataset,\n",
        "                               batch_size=batch_size,\n",
        "                               collate_fn=data_collator,\n",
        "                               drop_last=True\n",
        "                              )\n",
        "validation_loader = data.DataLoader(validation_dataset, \n",
        "                                    batch_size=batch_size, # batch 1 for evaluate variable length\n",
        "                                    collate_fn=data_collator,\n",
        "                                    drop_last=True\n",
        "                                   )\n",
        "\n",
        "config.dataset.n_items = len(train_dataset.id2item)\n",
        "config.dataset.n_champs = len(train_dataset.id2champ)"
      ],
      "execution_count": 8,
      "outputs": [
        {
          "output_type": "stream",
          "name": "stderr",
          "text": [
            "===> loading train and validation dataset\n",
            "Loading features from dataset at /content/training_all.pkl\n",
            "Loading features from dataset at /content/testing_all.pkl\n"
          ]
        }
      ]
    },
    {
      "cell_type": "code",
      "metadata": {
        "id": "K06uuWT-mbAK",
        "colab": {
          "base_uri": "https://localhost:8080/"
        },
        "outputId": "d0c65a36-046e-4458-d032-3389a4326983"
      },
      "source": [
        "model = HTransformer(config=config)\n",
        "# move to device\n",
        "model.to(device)\n",
        "\n",
        "# Adam optimizer\n",
        "optimizer = optim.Adam(\n",
        "        filter(lambda p: p.requires_grad, model.parameters()), \n",
        "        lr=2e-4, betas=(0.9, 0.98), eps=1e-09, weight_decay=1e-4, amsgrad=True)\n",
        "if config.training.resume_name:\n",
        "    optimizer.load_state_dict(checkpoint['optimizer'])\n",
        "\n",
        "# create loss function\n",
        "loss_fn = losses.LossFunction(loss_type=config.model.loss_fn)\n",
        "    \n",
        "model_params = sum(p.numel() for p in model.parameters() if p.requires_grad)\n",
        "logger.info('### Model summary below ###\\n {}'.format(str(model)))\n",
        "logger.info('===> Model total parameter: {}\\n'.format(model_params))"
      ],
      "execution_count": 9,
      "outputs": [
        {
          "output_type": "stream",
          "name": "stderr",
          "text": [
            "### Model summary below ###\n",
            " HTransformer(\n",
            "  (champion_embedding): Embedding(111, 256)\n",
            "  (team_embedding): Embedding(2, 256)\n",
            "  (item_embedding): Linear(in_features=138, out_features=256, bias=True)\n",
            "  (position_embedding): Embedding(60, 512)\n",
            "  (transformer_match_encoder): TransformerEncoder(\n",
            "    (layers): ModuleList(\n",
            "      (0): TransformerEncoderLayer(\n",
            "        (self_attn): MultiheadAttention(\n",
            "          (out_proj): NonDynamicallyQuantizableLinear(in_features=512, out_features=512, bias=True)\n",
            "        )\n",
            "        (linear1): Linear(in_features=512, out_features=2048, bias=True)\n",
            "        (dropout): Dropout(p=0.1, inplace=False)\n",
            "        (linear2): Linear(in_features=2048, out_features=512, bias=True)\n",
            "        (norm1): LayerNorm((512,), eps=1e-05, elementwise_affine=True)\n",
            "        (norm2): LayerNorm((512,), eps=1e-05, elementwise_affine=True)\n",
            "        (dropout1): Dropout(p=0.1, inplace=False)\n",
            "        (dropout2): Dropout(p=0.1, inplace=False)\n",
            "      )\n",
            "    )\n",
            "  )\n",
            "  (transformer_seq_encoder): TransformerEncoder(\n",
            "    (layers): ModuleList(\n",
            "      (0): TransformerEncoderLayer(\n",
            "        (self_attn): MultiheadAttention(\n",
            "          (out_proj): NonDynamicallyQuantizableLinear(in_features=512, out_features=512, bias=True)\n",
            "        )\n",
            "        (linear1): Linear(in_features=512, out_features=2048, bias=True)\n",
            "        (dropout): Dropout(p=0.1, inplace=False)\n",
            "        (linear2): Linear(in_features=2048, out_features=512, bias=True)\n",
            "        (norm1): LayerNorm((512,), eps=1e-05, elementwise_affine=True)\n",
            "        (norm2): LayerNorm((512,), eps=1e-05, elementwise_affine=True)\n",
            "        (dropout1): Dropout(p=0.1, inplace=False)\n",
            "        (dropout2): Dropout(p=0.1, inplace=False)\n",
            "      )\n",
            "    )\n",
            "  )\n",
            "  (out): Linear(in_features=512, out_features=138, bias=True)\n",
            ")\n",
            "===> Model total parameter: 6470794\n",
            "\n"
          ]
        }
      ]
    },
    {
      "cell_type": "code",
      "metadata": {
        "id": "w-RLv8sdmmbo",
        "colab": {
          "base_uri": "https://localhost:8080/",
          "height": 1000
        },
        "outputId": "d6360b4f-ed4c-46bc-95dd-e2da1fe4240d"
      },
      "source": [
        "best_acc = 0\n",
        "best_loss = np.inf\n",
        "best_epoch = -1 \n",
        "step = 0\n",
        "initial_epoch = 1\n",
        "    \n",
        "logger.info('### Training begins at epoch {} and step {} ###'.format(initial_epoch,step))\n",
        "for epoch in range(initial_epoch, config.training.epochs + 1):\n",
        "    epoch_timer = timer()\n",
        "    # Train and validate\n",
        "    tr_acc, tr_loss, step = train(\n",
        "        step, \n",
        "        model, \n",
        "        train_loader, \n",
        "        loss_fn, \n",
        "        device, \n",
        "        optimizer, \n",
        "        epoch, \n",
        "        config.training.log_interval)\n",
        "    \n",
        "    if not epoch % 10:    \n",
        "        val_acc, val_loss = validation(\n",
        "            step, \n",
        "            model, \n",
        "            validation_loader, \n",
        "            loss_fn, \n",
        "            device)\n",
        "        # Save\n",
        "        if val_loss < best_loss: \n",
        "            best_loss = min(val_loss, best_loss)\n",
        "            if torch.cuda.device_count() > 1 and not config.training.no_cuda:\n",
        "                dict_to_save = model.module.state_dict()\n",
        "            else:\n",
        "                dict_to_save = model.state_dict()\n",
        "            snapshot(config.training.logging_dir, run_name, {\n",
        "                'epoch': epoch,\n",
        "                'step_train': step,\n",
        "                'validation_acc': val_acc,\n",
        "                'validation_loss': val_loss,\n",
        "                'state_dict': dict_to_save,\n",
        "                'optimizer': optimizer.state_dict(),\n",
        "            })\n",
        "            best_epoch = epoch\n",
        "\n",
        "    end_epoch_timer = timer()\n",
        "    logger.info(\"#### End epoch {}/{}, elapsed time: {}\".format(epoch, config.training.epochs, end_epoch_timer - epoch_timer))\n",
        "    \n",
        "## end \n",
        "end_global_timer = timer()\n",
        "logger.info(\"################## Success #########################\")\n",
        "logger.info(\"Total elapsed time: %s\" % (end_global_timer - global_timer))"
      ],
      "execution_count": 10,
      "outputs": [
        {
          "output_type": "stream",
          "name": "stderr",
          "text": [
            "### Training begins at epoch 1 and step 0 ###\n",
            "Train Epoch: 1 [0/184260 (0%)]\tAccuracy: 0.0050\tLoss: 7.836747\n",
            "Train Epoch: 1 [10000/184260 (5%)]\tAccuracy: 0.0855\tLoss: 6.560902\n",
            "Train Epoch: 1 [20000/184260 (11%)]\tAccuracy: 0.1524\tLoss: 5.956785\n",
            "Train Epoch: 1 [30000/184260 (16%)]\tAccuracy: 0.1888\tLoss: 5.645463\n",
            "Train Epoch: 1 [40000/184260 (22%)]\tAccuracy: 0.2127\tLoss: 5.447629\n",
            "Train Epoch: 1 [50000/184260 (27%)]\tAccuracy: 0.2172\tLoss: 5.382905\n",
            "Train Epoch: 1 [60000/184260 (33%)]\tAccuracy: 0.2355\tLoss: 5.272496\n",
            "Train Epoch: 1 [70000/184260 (38%)]\tAccuracy: 0.2688\tLoss: 5.153107\n",
            "Train Epoch: 1 [80000/184260 (43%)]\tAccuracy: 0.2745\tLoss: 5.146143\n",
            "Train Epoch: 1 [90000/184260 (49%)]\tAccuracy: 0.2381\tLoss: 5.061535\n",
            "Train Epoch: 1 [100000/184260 (54%)]\tAccuracy: 0.2696\tLoss: 5.062681\n",
            "Train Epoch: 1 [110000/184260 (60%)]\tAccuracy: 0.2915\tLoss: 5.041675\n",
            "Train Epoch: 1 [120000/184260 (65%)]\tAccuracy: 0.2485\tLoss: 5.046984\n",
            "Train Epoch: 1 [130000/184260 (71%)]\tAccuracy: 0.2633\tLoss: 4.947201\n",
            "Train Epoch: 1 [140000/184260 (76%)]\tAccuracy: 0.2460\tLoss: 5.028417\n",
            "Train Epoch: 1 [150000/184260 (81%)]\tAccuracy: 0.2995\tLoss: 4.964270\n",
            "Train Epoch: 1 [160000/184260 (87%)]\tAccuracy: 0.2982\tLoss: 4.943172\n",
            "Train Epoch: 1 [170000/184260 (92%)]\tAccuracy: 0.2671\tLoss: 4.943567\n",
            "Train Epoch: 1 [180000/184260 (98%)]\tAccuracy: 0.3364\tLoss: 4.963904\n",
            "#### End epoch 1/50, elapsed time: 1279.549100783\n",
            "Train Epoch: 2 [0/184260 (0%)]\tAccuracy: 0.2607\tLoss: 4.776128\n",
            "Train Epoch: 2 [10000/184260 (5%)]\tAccuracy: 0.3150\tLoss: 4.815411\n",
            "Train Epoch: 2 [20000/184260 (11%)]\tAccuracy: 0.2995\tLoss: 4.893932\n",
            "Train Epoch: 2 [30000/184260 (16%)]\tAccuracy: 0.2984\tLoss: 4.897069\n",
            "Train Epoch: 2 [40000/184260 (22%)]\tAccuracy: 0.2907\tLoss: 4.920877\n",
            "Train Epoch: 2 [50000/184260 (27%)]\tAccuracy: 0.2909\tLoss: 4.901331\n",
            "Train Epoch: 2 [60000/184260 (33%)]\tAccuracy: 0.2912\tLoss: 4.872462\n",
            "Train Epoch: 2 [70000/184260 (38%)]\tAccuracy: 0.3169\tLoss: 4.835258\n",
            "Train Epoch: 2 [80000/184260 (43%)]\tAccuracy: 0.3289\tLoss: 4.831851\n",
            "Train Epoch: 2 [90000/184260 (49%)]\tAccuracy: 0.2708\tLoss: 4.795932\n",
            "Train Epoch: 2 [100000/184260 (54%)]\tAccuracy: 0.2993\tLoss: 4.842758\n",
            "Train Epoch: 2 [110000/184260 (60%)]\tAccuracy: 0.3230\tLoss: 4.838067\n",
            "Train Epoch: 2 [120000/184260 (65%)]\tAccuracy: 0.2717\tLoss: 4.863368\n",
            "Train Epoch: 2 [130000/184260 (71%)]\tAccuracy: 0.2858\tLoss: 4.777197\n",
            "Train Epoch: 2 [140000/184260 (76%)]\tAccuracy: 0.2669\tLoss: 4.861100\n",
            "Train Epoch: 2 [150000/184260 (81%)]\tAccuracy: 0.3263\tLoss: 4.818251\n",
            "Train Epoch: 2 [160000/184260 (87%)]\tAccuracy: 0.3277\tLoss: 4.821422\n",
            "Train Epoch: 2 [170000/184260 (92%)]\tAccuracy: 0.2860\tLoss: 4.827660\n",
            "Train Epoch: 2 [180000/184260 (98%)]\tAccuracy: 0.3567\tLoss: 4.855265\n",
            "#### End epoch 2/50, elapsed time: 1271.429838455\n",
            "Train Epoch: 3 [0/184260 (0%)]\tAccuracy: 0.2785\tLoss: 4.638743\n",
            "Train Epoch: 3 [10000/184260 (5%)]\tAccuracy: 0.3325\tLoss: 4.719483\n",
            "Train Epoch: 3 [20000/184260 (11%)]\tAccuracy: 0.3088\tLoss: 4.797646\n",
            "Train Epoch: 3 [30000/184260 (16%)]\tAccuracy: 0.3060\tLoss: 4.786436\n",
            "Train Epoch: 3 [40000/184260 (22%)]\tAccuracy: 0.3075\tLoss: 4.790901\n",
            "Train Epoch: 3 [50000/184260 (27%)]\tAccuracy: 0.3058\tLoss: 4.792366\n"
          ]
        },
        {
          "output_type": "error",
          "ename": "KeyboardInterrupt",
          "evalue": "ignored",
          "traceback": [
            "\u001b[0;31m---------------------------------------------------------------------------\u001b[0m",
            "\u001b[0;31mKeyboardInterrupt\u001b[0m                         Traceback (most recent call last)",
            "\u001b[0;32m<ipython-input-10-2f3e73ad7d9b>\u001b[0m in \u001b[0;36m<module>\u001b[0;34m()\u001b[0m\n\u001b[1;32m     17\u001b[0m         \u001b[0moptimizer\u001b[0m\u001b[0;34m,\u001b[0m\u001b[0;34m\u001b[0m\u001b[0;34m\u001b[0m\u001b[0m\n\u001b[1;32m     18\u001b[0m         \u001b[0mepoch\u001b[0m\u001b[0;34m,\u001b[0m\u001b[0;34m\u001b[0m\u001b[0;34m\u001b[0m\u001b[0m\n\u001b[0;32m---> 19\u001b[0;31m         config.training.log_interval)\n\u001b[0m\u001b[1;32m     20\u001b[0m \u001b[0;34m\u001b[0m\u001b[0m\n\u001b[1;32m     21\u001b[0m     \u001b[0;32mif\u001b[0m \u001b[0;32mnot\u001b[0m \u001b[0mepoch\u001b[0m \u001b[0;34m%\u001b[0m \u001b[0;36m10\u001b[0m\u001b[0;34m:\u001b[0m\u001b[0;34m\u001b[0m\u001b[0;34m\u001b[0m\u001b[0m\n",
            "\u001b[0;32m/content/train.py\u001b[0m in \u001b[0;36mtrain\u001b[0;34m(step, model, data_loader, loss_fn, device, optimizer, epoch, log_interval)\u001b[0m\n\u001b[1;32m     20\u001b[0m     \u001b[0mtotal_loss\u001b[0m \u001b[0;34m=\u001b[0m \u001b[0;36m0\u001b[0m\u001b[0;34m\u001b[0m\u001b[0;34m\u001b[0m\u001b[0m\n\u001b[1;32m     21\u001b[0m     \u001b[0mtotal_acc\u001b[0m \u001b[0;34m=\u001b[0m \u001b[0;36m0\u001b[0m\u001b[0;34m\u001b[0m\u001b[0;34m\u001b[0m\u001b[0m\n\u001b[0;32m---> 22\u001b[0;31m     \u001b[0;32mfor\u001b[0m \u001b[0mbatch_idx\u001b[0m\u001b[0;34m,\u001b[0m \u001b[0;34m[\u001b[0m\u001b[0mchamps\u001b[0m\u001b[0;34m,\u001b[0m \u001b[0mitems\u001b[0m\u001b[0;34m,\u001b[0m \u001b[0mtarget\u001b[0m\u001b[0;34m,\u001b[0m \u001b[0mattn_mask\u001b[0m\u001b[0;34m]\u001b[0m \u001b[0;32min\u001b[0m \u001b[0menumerate\u001b[0m\u001b[0;34m(\u001b[0m\u001b[0mdata_loader\u001b[0m\u001b[0;34m)\u001b[0m\u001b[0;34m:\u001b[0m\u001b[0;34m\u001b[0m\u001b[0;34m\u001b[0m\u001b[0m\n\u001b[0m\u001b[1;32m     23\u001b[0m         \u001b[0moptimizer\u001b[0m\u001b[0;34m.\u001b[0m\u001b[0mzero_grad\u001b[0m\u001b[0;34m(\u001b[0m\u001b[0;34m)\u001b[0m\u001b[0;34m\u001b[0m\u001b[0;34m\u001b[0m\u001b[0m\n\u001b[1;32m     24\u001b[0m         \u001b[0mchamps\u001b[0m \u001b[0;34m=\u001b[0m \u001b[0mchamps\u001b[0m\u001b[0;34m.\u001b[0m\u001b[0mto\u001b[0m\u001b[0;34m(\u001b[0m\u001b[0mdevice\u001b[0m\u001b[0;34m)\u001b[0m\u001b[0;34m\u001b[0m\u001b[0;34m\u001b[0m\u001b[0m\n",
            "\u001b[0;32m/usr/local/lib/python3.7/dist-packages/torch/utils/data/dataloader.py\u001b[0m in \u001b[0;36m__next__\u001b[0;34m(self)\u001b[0m\n\u001b[1;32m    519\u001b[0m             \u001b[0;32mif\u001b[0m \u001b[0mself\u001b[0m\u001b[0;34m.\u001b[0m\u001b[0m_sampler_iter\u001b[0m \u001b[0;32mis\u001b[0m \u001b[0;32mNone\u001b[0m\u001b[0;34m:\u001b[0m\u001b[0;34m\u001b[0m\u001b[0;34m\u001b[0m\u001b[0m\n\u001b[1;32m    520\u001b[0m                 \u001b[0mself\u001b[0m\u001b[0;34m.\u001b[0m\u001b[0m_reset\u001b[0m\u001b[0;34m(\u001b[0m\u001b[0;34m)\u001b[0m\u001b[0;34m\u001b[0m\u001b[0;34m\u001b[0m\u001b[0m\n\u001b[0;32m--> 521\u001b[0;31m             \u001b[0mdata\u001b[0m \u001b[0;34m=\u001b[0m \u001b[0mself\u001b[0m\u001b[0;34m.\u001b[0m\u001b[0m_next_data\u001b[0m\u001b[0;34m(\u001b[0m\u001b[0;34m)\u001b[0m\u001b[0;34m\u001b[0m\u001b[0;34m\u001b[0m\u001b[0m\n\u001b[0m\u001b[1;32m    522\u001b[0m             \u001b[0mself\u001b[0m\u001b[0;34m.\u001b[0m\u001b[0m_num_yielded\u001b[0m \u001b[0;34m+=\u001b[0m \u001b[0;36m1\u001b[0m\u001b[0;34m\u001b[0m\u001b[0;34m\u001b[0m\u001b[0m\n\u001b[1;32m    523\u001b[0m             \u001b[0;32mif\u001b[0m \u001b[0mself\u001b[0m\u001b[0;34m.\u001b[0m\u001b[0m_dataset_kind\u001b[0m \u001b[0;34m==\u001b[0m \u001b[0m_DatasetKind\u001b[0m\u001b[0;34m.\u001b[0m\u001b[0mIterable\u001b[0m \u001b[0;32mand\u001b[0m\u001b[0;31m \u001b[0m\u001b[0;31m\\\u001b[0m\u001b[0;34m\u001b[0m\u001b[0;34m\u001b[0m\u001b[0m\n",
            "\u001b[0;32m/usr/local/lib/python3.7/dist-packages/torch/utils/data/dataloader.py\u001b[0m in \u001b[0;36m_next_data\u001b[0;34m(self)\u001b[0m\n\u001b[1;32m    559\u001b[0m     \u001b[0;32mdef\u001b[0m \u001b[0m_next_data\u001b[0m\u001b[0;34m(\u001b[0m\u001b[0mself\u001b[0m\u001b[0;34m)\u001b[0m\u001b[0;34m:\u001b[0m\u001b[0;34m\u001b[0m\u001b[0;34m\u001b[0m\u001b[0m\n\u001b[1;32m    560\u001b[0m         \u001b[0mindex\u001b[0m \u001b[0;34m=\u001b[0m \u001b[0mself\u001b[0m\u001b[0;34m.\u001b[0m\u001b[0m_next_index\u001b[0m\u001b[0;34m(\u001b[0m\u001b[0;34m)\u001b[0m  \u001b[0;31m# may raise StopIteration\u001b[0m\u001b[0;34m\u001b[0m\u001b[0;34m\u001b[0m\u001b[0m\n\u001b[0;32m--> 561\u001b[0;31m         \u001b[0mdata\u001b[0m \u001b[0;34m=\u001b[0m \u001b[0mself\u001b[0m\u001b[0;34m.\u001b[0m\u001b[0m_dataset_fetcher\u001b[0m\u001b[0;34m.\u001b[0m\u001b[0mfetch\u001b[0m\u001b[0;34m(\u001b[0m\u001b[0mindex\u001b[0m\u001b[0;34m)\u001b[0m  \u001b[0;31m# may raise StopIteration\u001b[0m\u001b[0;34m\u001b[0m\u001b[0;34m\u001b[0m\u001b[0m\n\u001b[0m\u001b[1;32m    562\u001b[0m         \u001b[0;32mif\u001b[0m \u001b[0mself\u001b[0m\u001b[0;34m.\u001b[0m\u001b[0m_pin_memory\u001b[0m\u001b[0;34m:\u001b[0m\u001b[0;34m\u001b[0m\u001b[0;34m\u001b[0m\u001b[0m\n\u001b[1;32m    563\u001b[0m             \u001b[0mdata\u001b[0m \u001b[0;34m=\u001b[0m \u001b[0m_utils\u001b[0m\u001b[0;34m.\u001b[0m\u001b[0mpin_memory\u001b[0m\u001b[0;34m.\u001b[0m\u001b[0mpin_memory\u001b[0m\u001b[0;34m(\u001b[0m\u001b[0mdata\u001b[0m\u001b[0;34m)\u001b[0m\u001b[0;34m\u001b[0m\u001b[0;34m\u001b[0m\u001b[0m\n",
            "\u001b[0;32m/usr/local/lib/python3.7/dist-packages/torch/utils/data/_utils/fetch.py\u001b[0m in \u001b[0;36mfetch\u001b[0;34m(self, possibly_batched_index)\u001b[0m\n\u001b[1;32m     42\u001b[0m     \u001b[0;32mdef\u001b[0m \u001b[0mfetch\u001b[0m\u001b[0;34m(\u001b[0m\u001b[0mself\u001b[0m\u001b[0;34m,\u001b[0m \u001b[0mpossibly_batched_index\u001b[0m\u001b[0;34m)\u001b[0m\u001b[0;34m:\u001b[0m\u001b[0;34m\u001b[0m\u001b[0;34m\u001b[0m\u001b[0m\n\u001b[1;32m     43\u001b[0m         \u001b[0;32mif\u001b[0m \u001b[0mself\u001b[0m\u001b[0;34m.\u001b[0m\u001b[0mauto_collation\u001b[0m\u001b[0;34m:\u001b[0m\u001b[0;34m\u001b[0m\u001b[0;34m\u001b[0m\u001b[0m\n\u001b[0;32m---> 44\u001b[0;31m             \u001b[0mdata\u001b[0m \u001b[0;34m=\u001b[0m \u001b[0;34m[\u001b[0m\u001b[0mself\u001b[0m\u001b[0;34m.\u001b[0m\u001b[0mdataset\u001b[0m\u001b[0;34m[\u001b[0m\u001b[0midx\u001b[0m\u001b[0;34m]\u001b[0m \u001b[0;32mfor\u001b[0m \u001b[0midx\u001b[0m \u001b[0;32min\u001b[0m \u001b[0mpossibly_batched_index\u001b[0m\u001b[0;34m]\u001b[0m\u001b[0;34m\u001b[0m\u001b[0;34m\u001b[0m\u001b[0m\n\u001b[0m\u001b[1;32m     45\u001b[0m         \u001b[0;32melse\u001b[0m\u001b[0;34m:\u001b[0m\u001b[0;34m\u001b[0m\u001b[0;34m\u001b[0m\u001b[0m\n\u001b[1;32m     46\u001b[0m             \u001b[0mdata\u001b[0m \u001b[0;34m=\u001b[0m \u001b[0mself\u001b[0m\u001b[0;34m.\u001b[0m\u001b[0mdataset\u001b[0m\u001b[0;34m[\u001b[0m\u001b[0mpossibly_batched_index\u001b[0m\u001b[0;34m]\u001b[0m\u001b[0;34m\u001b[0m\u001b[0;34m\u001b[0m\u001b[0m\n",
            "\u001b[0;32m/usr/local/lib/python3.7/dist-packages/torch/utils/data/_utils/fetch.py\u001b[0m in \u001b[0;36m<listcomp>\u001b[0;34m(.0)\u001b[0m\n\u001b[1;32m     42\u001b[0m     \u001b[0;32mdef\u001b[0m \u001b[0mfetch\u001b[0m\u001b[0;34m(\u001b[0m\u001b[0mself\u001b[0m\u001b[0;34m,\u001b[0m \u001b[0mpossibly_batched_index\u001b[0m\u001b[0;34m)\u001b[0m\u001b[0;34m:\u001b[0m\u001b[0;34m\u001b[0m\u001b[0;34m\u001b[0m\u001b[0m\n\u001b[1;32m     43\u001b[0m         \u001b[0;32mif\u001b[0m \u001b[0mself\u001b[0m\u001b[0;34m.\u001b[0m\u001b[0mauto_collation\u001b[0m\u001b[0;34m:\u001b[0m\u001b[0;34m\u001b[0m\u001b[0;34m\u001b[0m\u001b[0m\n\u001b[0;32m---> 44\u001b[0;31m             \u001b[0mdata\u001b[0m \u001b[0;34m=\u001b[0m \u001b[0;34m[\u001b[0m\u001b[0mself\u001b[0m\u001b[0;34m.\u001b[0m\u001b[0mdataset\u001b[0m\u001b[0;34m[\u001b[0m\u001b[0midx\u001b[0m\u001b[0;34m]\u001b[0m \u001b[0;32mfor\u001b[0m \u001b[0midx\u001b[0m \u001b[0;32min\u001b[0m \u001b[0mpossibly_batched_index\u001b[0m\u001b[0;34m]\u001b[0m\u001b[0;34m\u001b[0m\u001b[0;34m\u001b[0m\u001b[0m\n\u001b[0m\u001b[1;32m     45\u001b[0m         \u001b[0;32melse\u001b[0m\u001b[0;34m:\u001b[0m\u001b[0;34m\u001b[0m\u001b[0;34m\u001b[0m\u001b[0m\n\u001b[1;32m     46\u001b[0m             \u001b[0mdata\u001b[0m \u001b[0;34m=\u001b[0m \u001b[0mself\u001b[0m\u001b[0;34m.\u001b[0m\u001b[0mdataset\u001b[0m\u001b[0;34m[\u001b[0m\u001b[0mpossibly_batched_index\u001b[0m\u001b[0;34m]\u001b[0m\u001b[0;34m\u001b[0m\u001b[0;34m\u001b[0m\u001b[0m\n",
            "\u001b[0;32m/content/dataset.py\u001b[0m in \u001b[0;36m__getitem__\u001b[0;34m(self, i)\u001b[0m\n\u001b[1;32m     46\u001b[0m         \u001b[0mlist_champs\u001b[0m \u001b[0;34m=\u001b[0m \u001b[0mlist\u001b[0m\u001b[0;34m(\u001b[0m\u001b[0mself\u001b[0m\u001b[0;34m.\u001b[0m\u001b[0mexamples\u001b[0m\u001b[0;34m[\u001b[0m\u001b[0mi\u001b[0m\u001b[0;34m]\u001b[0m\u001b[0;34m.\u001b[0m\u001b[0mkeys\u001b[0m\u001b[0;34m(\u001b[0m\u001b[0;34m)\u001b[0m\u001b[0;34m)\u001b[0m\u001b[0;34m\u001b[0m\u001b[0;34m\u001b[0m\u001b[0m\n\u001b[1;32m     47\u001b[0m         \u001b[0mchampions\u001b[0m \u001b[0;34m=\u001b[0m \u001b[0mself\u001b[0m\u001b[0;34m.\u001b[0m\u001b[0mconvert_to_ids\u001b[0m\u001b[0;34m(\u001b[0m\u001b[0mself\u001b[0m\u001b[0;34m.\u001b[0m\u001b[0mchamp2id\u001b[0m\u001b[0;34m,\u001b[0m \u001b[0mlist_champs\u001b[0m\u001b[0;34m)\u001b[0m\u001b[0;34m\u001b[0m\u001b[0;34m\u001b[0m\u001b[0m\n\u001b[0;32m---> 48\u001b[0;31m         \u001b[0mitems\u001b[0m\u001b[0;34m,\u001b[0m \u001b[0mlabels\u001b[0m \u001b[0;34m=\u001b[0m \u001b[0mself\u001b[0m\u001b[0;34m.\u001b[0m\u001b[0mconvert_to_multihot\u001b[0m\u001b[0;34m(\u001b[0m\u001b[0mself\u001b[0m\u001b[0;34m.\u001b[0m\u001b[0mexamples\u001b[0m\u001b[0;34m[\u001b[0m\u001b[0mi\u001b[0m\u001b[0;34m]\u001b[0m\u001b[0;34m)\u001b[0m\u001b[0;34m\u001b[0m\u001b[0;34m\u001b[0m\u001b[0m\n\u001b[0m\u001b[1;32m     49\u001b[0m         \u001b[0;32mreturn\u001b[0m \u001b[0mtorch\u001b[0m\u001b[0;34m.\u001b[0m\u001b[0mtensor\u001b[0m\u001b[0;34m(\u001b[0m\u001b[0mchampions\u001b[0m\u001b[0;34m,\u001b[0m \u001b[0mdtype\u001b[0m\u001b[0;34m=\u001b[0m\u001b[0mtorch\u001b[0m\u001b[0;34m.\u001b[0m\u001b[0mlong\u001b[0m\u001b[0;34m)\u001b[0m\u001b[0;34m,\u001b[0m \u001b[0mitems\u001b[0m\u001b[0;34m,\u001b[0m \u001b[0mtorch\u001b[0m\u001b[0;34m.\u001b[0m\u001b[0mtensor\u001b[0m\u001b[0;34m(\u001b[0m\u001b[0mlabels\u001b[0m\u001b[0;34m,\u001b[0m \u001b[0mdtype\u001b[0m\u001b[0;34m=\u001b[0m\u001b[0mtorch\u001b[0m\u001b[0;34m.\u001b[0m\u001b[0mlong\u001b[0m\u001b[0;34m)\u001b[0m\u001b[0;34m\u001b[0m\u001b[0;34m\u001b[0m\u001b[0m\n\u001b[1;32m     50\u001b[0m \u001b[0;34m\u001b[0m\u001b[0m\n",
            "\u001b[0;32m/content/dataset.py\u001b[0m in \u001b[0;36mconvert_to_multihot\u001b[0;34m(self, sample)\u001b[0m\n\u001b[1;32m    104\u001b[0m                     \u001b[0mitem_set\u001b[0m\u001b[0;34m.\u001b[0m\u001b[0mappend\u001b[0m\u001b[0;34m(\u001b[0m\u001b[0mself\u001b[0m\u001b[0;34m.\u001b[0m\u001b[0mitem2id\u001b[0m\u001b[0;34m[\u001b[0m\u001b[0mint\u001b[0m\u001b[0;34m(\u001b[0m\u001b[0mi\u001b[0m\u001b[0;34m)\u001b[0m\u001b[0;34m]\u001b[0m\u001b[0;34m+\u001b[0m\u001b[0;36m1\u001b[0m\u001b[0;34m)\u001b[0m \u001b[0;31m# this is for shift\u001b[0m\u001b[0;34m\u001b[0m\u001b[0;34m\u001b[0m\u001b[0m\n\u001b[1;32m    105\u001b[0m                 \u001b[0mresult\u001b[0m\u001b[0;34m.\u001b[0m\u001b[0mappend\u001b[0m\u001b[0;34m(\u001b[0m\u001b[0mitem_set\u001b[0m\u001b[0;34m)\u001b[0m\u001b[0;34m\u001b[0m\u001b[0;34m\u001b[0m\u001b[0m\n\u001b[0;32m--> 106\u001b[0;31m             \u001b[0mlist_one_hot\u001b[0m\u001b[0;34m.\u001b[0m\u001b[0mappend\u001b[0m\u001b[0;34m(\u001b[0m\u001b[0mself\u001b[0m\u001b[0;34m.\u001b[0m\u001b[0mto_onehot\u001b[0m\u001b[0;34m(\u001b[0m\u001b[0mresult\u001b[0m\u001b[0;34m,\u001b[0m \u001b[0mlen\u001b[0m\u001b[0;34m(\u001b[0m\u001b[0mself\u001b[0m\u001b[0;34m.\u001b[0m\u001b[0mitem2id\u001b[0m\u001b[0;34m)\u001b[0m\u001b[0;34m,\u001b[0m \u001b[0mdtype\u001b[0m\u001b[0;34m=\u001b[0m\u001b[0mtorch\u001b[0m\u001b[0;34m.\u001b[0m\u001b[0mfloat32\u001b[0m\u001b[0;34m)\u001b[0m\u001b[0;34m)\u001b[0m\u001b[0;34m\u001b[0m\u001b[0;34m\u001b[0m\u001b[0m\n\u001b[0m\u001b[1;32m    107\u001b[0m \u001b[0;34m\u001b[0m\u001b[0m\n\u001b[1;32m    108\u001b[0m         \u001b[0mitems_tensor\u001b[0m \u001b[0;34m=\u001b[0m \u001b[0mtorch\u001b[0m\u001b[0;34m.\u001b[0m\u001b[0mstack\u001b[0m\u001b[0;34m(\u001b[0m\u001b[0mlist_one_hot\u001b[0m\u001b[0;34m,\u001b[0m \u001b[0mdim\u001b[0m\u001b[0;34m=\u001b[0m\u001b[0;36m1\u001b[0m\u001b[0;34m)\u001b[0m \u001b[0;31m# shape S,C,D\u001b[0m\u001b[0;34m\u001b[0m\u001b[0;34m\u001b[0m\u001b[0m\n",
            "\u001b[0;32m/content/dataset.py\u001b[0m in \u001b[0;36mto_onehot\u001b[0;34m(self, labels, n_categories, dtype)\u001b[0m\n\u001b[1;32m    116\u001b[0m             \u001b[0;31m# indexing starts at 1 and tensor indexing starts at 0\u001b[0m\u001b[0;34m\u001b[0m\u001b[0;34m\u001b[0m\u001b[0;34m\u001b[0m\u001b[0m\n\u001b[1;32m    117\u001b[0m             \u001b[0mlabel\u001b[0m \u001b[0;34m=\u001b[0m \u001b[0mtorch\u001b[0m\u001b[0;34m.\u001b[0m\u001b[0mLongTensor\u001b[0m\u001b[0;34m(\u001b[0m\u001b[0mlabel\u001b[0m\u001b[0;34m)\u001b[0m \u001b[0;34m-\u001b[0m \u001b[0;36m1\u001b[0m\u001b[0;34m\u001b[0m\u001b[0;34m\u001b[0m\u001b[0m\n\u001b[0;32m--> 118\u001b[0;31m             \u001b[0mone_hot_labels\u001b[0m\u001b[0;34m[\u001b[0m\u001b[0mi\u001b[0m\u001b[0;34m]\u001b[0m \u001b[0;34m=\u001b[0m \u001b[0mone_hot_labels\u001b[0m\u001b[0;34m[\u001b[0m\u001b[0mi\u001b[0m\u001b[0;34m]\u001b[0m\u001b[0;34m.\u001b[0m\u001b[0mscatter_\u001b[0m\u001b[0;34m(\u001b[0m\u001b[0mdim\u001b[0m\u001b[0;34m=\u001b[0m\u001b[0;36m0\u001b[0m\u001b[0;34m,\u001b[0m \u001b[0mindex\u001b[0m\u001b[0;34m=\u001b[0m\u001b[0mlabel\u001b[0m\u001b[0;34m,\u001b[0m \u001b[0mvalue\u001b[0m\u001b[0;34m=\u001b[0m\u001b[0;36m1.\u001b[0m\u001b[0;34m)\u001b[0m\u001b[0;34m\u001b[0m\u001b[0;34m\u001b[0m\u001b[0m\n\u001b[0m\u001b[1;32m    119\u001b[0m         \u001b[0;32mreturn\u001b[0m \u001b[0mone_hot_labels\u001b[0m\u001b[0;34m\u001b[0m\u001b[0;34m\u001b[0m\u001b[0m\n\u001b[1;32m    120\u001b[0m \u001b[0;34m\u001b[0m\u001b[0m\n",
            "\u001b[0;31mKeyboardInterrupt\u001b[0m: "
          ]
        }
      ]
    },
    {
      "cell_type": "markdown",
      "metadata": {
        "id": "g6vF5SRAEXGN"
      },
      "source": [
        "## Visualization"
      ]
    },
    {
      "cell_type": "code",
      "metadata": {
        "id": "7njMbj5v_8Nd"
      },
      "source": [
        "import numpy as np; np.random.seed(0)\n",
        "import seaborn as sns\n",
        "import matplotlib.pyplot as plt"
      ],
      "execution_count": 11,
      "outputs": []
    },
    {
      "cell_type": "code",
      "metadata": {
        "id": "kUlTVc5SB2EW"
      },
      "source": [
        "import pandas as pd\n",
        "\n",
        "def open_champs_info(champs_path):\n",
        "    champs_df = pd.read_csv(champs_path)\n",
        "    champs_df.drop([106, 111], inplace = True)\n",
        "    champs_df.drop(['name'], axis = 1, inplace = True)\n",
        "    champs_df.reset_index(drop=True, inplace=True)\n",
        "    names = champs_df['localized_name'].tolist()\n",
        "    dictionary = {names[i] : v for i, v in enumerate(champs_df['hero_id'].tolist())}\n",
        "    dictionary[0] = 0\n",
        "    reversed_dictionary = {value : key for (key, value) in dictionary.items()}\n",
        "    return dictionary, reversed_dictionary\n",
        "\n",
        "_, mapping = open_champs_info(config.dataset.champ_path)"
      ],
      "execution_count": 12,
      "outputs": []
    },
    {
      "cell_type": "code",
      "metadata": {
        "id": "S9-h5i5eO4op",
        "colab": {
          "base_uri": "https://localhost:8080/"
        },
        "outputId": "516d7a14-871b-4ca2-ca24-0beaeff0e220"
      },
      "source": [
        "run_name = 'HTransformerV3-2021-10-30_04_30_23'\n",
        "logger.info('===> loading a checkpoint')\n",
        "checkpoint = torch.load('{}/{}-{}'.format(config.training.logging_dir, run_name, 'model_best.pth'))\n",
        "model.load_state_dict(checkpoint['state_dict'])"
      ],
      "execution_count": 13,
      "outputs": [
        {
          "output_type": "stream",
          "name": "stderr",
          "text": [
            "===> loading a checkpoint\n"
          ]
        },
        {
          "output_type": "execute_result",
          "data": {
            "text/plain": [
              "<All keys matched successfully>"
            ]
          },
          "metadata": {},
          "execution_count": 13
        }
      ]
    },
    {
      "cell_type": "code",
      "metadata": {
        "id": "S4sW9jNz_qVy"
      },
      "source": [
        "validation_loader = data.DataLoader(validation_dataset, \n",
        "                                    batch_size=1, # batch 1 for evaluate variable length\n",
        "                                    collate_fn=data_collator,\n",
        "                                    drop_last=True,\n",
        "                                    shuffle=True\n",
        "                                   )"
      ],
      "execution_count": 14,
      "outputs": []
    },
    {
      "cell_type": "code",
      "metadata": {
        "id": "k4nRAiVn_6q5"
      },
      "source": [
        "champs, items, target, attn_mask = next(iter(validation_loader))"
      ],
      "execution_count": 15,
      "outputs": []
    },
    {
      "cell_type": "code",
      "metadata": {
        "id": "zKaI0GLdAKR8"
      },
      "source": [
        "output, attn_1, attn_2 = model(champs.cuda(), items.cuda())"
      ],
      "execution_count": 16,
      "outputs": []
    },
    {
      "cell_type": "code",
      "metadata": {
        "id": "yNesJdO-AYVT"
      },
      "source": [
        "data_1=attn_1.detach().cpu().numpy()\n",
        "data_2=attn_2.squeeze(0).detach().cpu().numpy()"
      ],
      "execution_count": 17,
      "outputs": []
    },
    {
      "cell_type": "code",
      "metadata": {
        "id": "Meu8ytkJB48Q"
      },
      "source": [
        "heros = champs.detach().cpu().squeeze(0).tolist()\n",
        "name_heros = []\n",
        "for i in heros:\n",
        "    name_heros.append(mapping[int(i)])"
      ],
      "execution_count": 18,
      "outputs": []
    },
    {
      "cell_type": "code",
      "metadata": {
        "id": "9Oq4kOllC1U1",
        "colab": {
          "base_uri": "https://localhost:8080/",
          "height": 466
        },
        "outputId": "69657db0-0eba-455d-cec3-466c91ceaa66"
      },
      "source": [
        "fig,axn = plt.subplots(5, 1, sharex=True, sharey=True, figsize=(10,6))\n",
        "\n",
        "aux = 2\n",
        "for i, ax in enumerate(axn.flat):\n",
        "    df = pd.DataFrame(data_1[i+aux], index=name_heros, columns=name_heros)\n",
        "    df.drop(labels=name_heros[1:], axis=0, inplace=True)\n",
        "#     ax.set_title(\"Step \"+str(i+aux))\n",
        "    sns.heatmap(df, ax=ax, cmap=\"Blues\", cbar=True)\n",
        "plt.xlabel(\"Heros\")"
      ],
      "execution_count": 19,
      "outputs": [
        {
          "output_type": "execute_result",
          "data": {
            "text/plain": [
              "Text(0.5, 32.99999999999995, 'Heros')"
            ]
          },
          "metadata": {},
          "execution_count": 19
        },
        {
          "output_type": "display_data",
          "data": {
            "image/png": "[encoded data removed]",
            "text/plain": [
              "<Figure size 720x432 with 10 Axes>"
            ]
          },
          "metadata": {
            "needs_background": "light"
          }
        }
      ]
    },
    {
      "cell_type": "code",
      "metadata": {
        "id": "Y-9UU6SzAnbV",
        "colab": {
          "base_uri": "https://localhost:8080/",
          "height": 406
        },
        "outputId": "b86fde17-e268-4393-fb05-26933357e687"
      },
      "source": [
        "plt.figure(figsize=(8, 6))\n",
        "ax = sns.heatmap(data_2, cmap=\"Blues\")\n",
        "plt.xlabel(\"Sequence Step\")\n",
        "plt.ylabel(\"Sequence Step\")"
      ],
      "execution_count": 20,
      "outputs": [
        {
          "output_type": "execute_result",
          "data": {
            "text/plain": [
              "Text(51.0, 0.5, 'Sequence Step')"
            ]
          },
          "metadata": {},
          "execution_count": 20
        },
        {
          "output_type": "display_data",
          "data": {
            "image/png": "[encoded data removed]",
            "text/plain": [
              "<Figure size 576x432 with 2 Axes>"
            ]
          },
          "metadata": {
            "needs_background": "light"
          }
        }
      ]
    }
  ]
}