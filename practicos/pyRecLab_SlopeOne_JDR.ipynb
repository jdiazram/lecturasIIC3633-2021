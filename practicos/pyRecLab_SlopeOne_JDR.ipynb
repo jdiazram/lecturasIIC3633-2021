{
  "nbformat": 4,
  "nbformat_minor": 0,
  "metadata": {
    "colab": {
      "name": "pyRecLab_SlopeOne-JDR.ipynb",
      "provenance": [],
      "collapsed_sections": [],
      "toc_visible": true,
      "include_colab_link": true
    },
    "kernelspec": {
      "display_name": "Python 3",
      "language": "python",
      "name": "python3"
    },
    "language_info": {
      "codemirror_mode": {
        "name": "ipython",
        "version": 3
      },
      "file_extension": ".py",
      "mimetype": "text/x-python",
      "name": "python",
      "nbconvert_exporter": "python",
      "pygments_lexer": "ipython3",
      "version": "3.6.0"
    },
    "toc": {
      "base_numbering": 1,
      "nav_menu": {},
      "number_sections": true,
      "sideBar": true,
      "skip_h1_title": false,
      "title_cell": "Table of Contents",
      "title_sidebar": "Contents",
      "toc_cell": false,
      "toc_position": {},
      "toc_section_display": true,
      "toc_window_display": false
    }
  },
  "cells": [
    {
      "cell_type": "markdown",
      "metadata": {
        "id": "view-in-github",
        "colab_type": "text"
      },
      "source": [
        "<a href=\"https://colab.research.google.com/github/jdiazram/lecturasIIC3633-2021/blob/main/practicos/pyRecLab_SlopeOne_JDR.ipynb\" target=\"_parent\"><img src=\"https://colab.research.google.com/assets/colab-badge.svg\" alt=\"Open In Colab\"/></a>"
      ]
    },
    {
      "cell_type": "markdown",
      "metadata": {
        "id": "view-in-youtube"
      },
      "source": [
        "<a href=\"https://youtu.be/A2euuevpYis\" target=\"_parent\"><img src=\"https://upload.wikimedia.org/wikipedia/commons/thumb/0/09/YouTube_full-color_icon_%282017%29.svg/71px-YouTube_full-color_icon_%282017%29.svg.png\" alt=\"Open In Colab\"/></a>\n"
      ]
    },
    {
      "cell_type": "markdown",
      "metadata": {
        "id": "0kY7Xfgi84HC"
      },
      "source": [
        "# **Práctico Sistemas Recomendadores: pyreclab - Slope One**\n",
        "\n",
        "En este práctico seguiremos utilizando [pyreclab](https://github.com/gasevi/pyreclab), con el cual estamos aprendiendo distintas técnicas de recomendación. Seguiremos usando la misma base de datos de los prácticos anteriores, para que puedan comparar los métodos y sus implementaciones. Este práctico está acompañado de un [video comentando la actividad](https://youtu.be/A2euuevpYis).\n",
        "\n",
        "En esta oportunidad exploraremos el recomendador de Pendiente Uno o **Slope One** [1].\n",
        "\n",
        "**Adaptado y preparado por:** Francisca Cattan 📩 fpcattan@uc.cl\n",
        "\n",
        "Referencias 📖\n",
        "------\n",
        "[1] *Lemire, D., & Maclachlan, A. (2005, April). Slope One Predictors for Online Rating-Based Collaborative Filtering. In SDM (Vol. 5, pp. 1-5).*\n"
      ]
    },
    {
      "cell_type": "markdown",
      "metadata": {
        "id": "1s6Ac_Kh9qiH"
      },
      "source": [
        "**Nombre**:  Jorge Díaz Ramírez"
      ]
    },
    {
      "cell_type": "markdown",
      "metadata": {
        "id": "Z4Jr74pP-4gt"
      },
      "source": [
        "## Actividad 1 👓\n",
        "\n",
        "Antes de empezar con el práctico, responde la siguiente pregunta con lo visto en clases.\n",
        "\n",
        "**Pregunta:** Explique cómo funciona Slope One (como modelo teórico, no piense en la implementación). En particular explique:\n",
        "\n",
        "- Repasemos: ¿Por qué este recomendador es un algoritmo de Filtrado Colaborativo?\n",
        "- Este Filtrado Colaborativo, ¿está basado en el usuario o en los items? ¿Por qué?\n",
        "- ¿Qué datos recibe Slope One y qué hace con ellos? (qué tipo de columnas y qué calculo)\n",
        "- ¿Qué pasaría si se agrega un nuevo rating a la base de datos?\n",
        "- Opcional: ¿Cómo crees que le iría al recomendador con un usuario que acaba de entrar al sistema y ha asignado muy pocos ratings?\n",
        "\n",
        "💡 *Hint: La bibliografía todo lo puede.*\n",
        "\n",
        "**Respuesta:**\n",
        "\n",
        "- El algoritmo Slope One calcula la diferencia media entre los ratings de 2 items para los usuarios que calificaron ambos items. Esto con el fin de realizar predicciones de items a otros usuarios y es el mas simple de los algoritmos de filtrado colaborativo. Respondiendo a la pregunta **¿Por qué este recomendador es un algoritmo de Filtrado Colaborativo?** Slope One se basa en los ratings de items para recomendar items a usuarios.\n",
        "- **Este Filtrado Colaborativo, ¿está basado en el usuario o en los items? ¿Por qué?** Slope one esta basado en items, porque calcula la diferencia media de ratings entre items.\n",
        "- **¿Qué datos recibe Slope One y qué hace con ellos? (qué tipo de columnas y qué calculo)** Los datos que recibe son: el usuario, item y rating. La columna sería el item, las filas los usuarios y la intersección sería el rating que le dió el usuario al item. El cálculo es la **Resta** del rating del item J menos el rating de item I y esa diferencia se le agrega a otro usuario para predecir cual sería el rating del item J (faltante) para ese otro usuario.\n",
        "-**¿Qué pasaría si se agrega un nuevo rating a la base de datos?** Como se utilizan diferencias promedio entre rating, al agregar un nuevo rating variaría la diferencia, modificando la predicción del rating.\n",
        "- Opcional: **¿Cómo crees que le iría al recomendador con un usuario que acaba de entrar al sistema y ha asignado muy pocos ratings?** Creo que bien, ya que todo dependería de los otros usuarios (antiguos) hayan valorizado o agregado un rating a los items que el nuevo usuario no haya valorizado, con esto se podría tener una predicción de los items faltantes para el nuevo usuario.\n",
        "\n",
        "\n",
        "\n",
        "\n"
      ]
    },
    {
      "cell_type": "markdown",
      "metadata": {
        "id": "HaFY1qNzHyCD"
      },
      "source": [
        "# **Configuración Inicial**"
      ]
    },
    {
      "cell_type": "markdown",
      "metadata": {
        "id": "MvGNsjiIIC6G"
      },
      "source": [
        "## Paso 1:\n",
        "Descargue directamente a Colab los archivos del dataset ejecutando las siguientes 3 celdas:\n"
      ]
    },
    {
      "cell_type": "code",
      "metadata": {
        "colab": {
          "base_uri": "https://localhost:8080/"
        },
        "id": "_7M_ehHq8ti2",
        "outputId": "b46f60d5-2759-46b0-8bea-8cfcf7d6f53f"
      },
      "source": [
        "!curl -L -o \"u1.base\" \"https://drive.google.com/uc?export=download&id=1bGweNw7NbOHoJz11v6ld7ymLR8MLvBsA\""
      ],
      "execution_count": 1,
      "outputs": [
        {
          "output_type": "stream",
          "name": "stdout",
          "text": [
            "  % Total    % Received % Xferd  Average Speed   Time    Time     Time  Current\n",
            "                                 Dload  Upload   Total   Spent    Left  Speed\n",
            "100   388    0   388    0     0    330      0 --:--:--  0:00:01 --:--:--   331\n",
            "100 1546k  100 1546k    0     0   883k      0  0:00:01  0:00:01 --:--:--  883k\n"
          ]
        }
      ]
    },
    {
      "cell_type": "code",
      "metadata": {
        "colab": {
          "base_uri": "https://localhost:8080/"
        },
        "id": "CSdhurW1InVW",
        "outputId": "00c5e0db-a38b-417b-feca-07ded245cf91"
      },
      "source": [
        "!curl -L -o \"u1.test\" \"https://drive.google.com/uc?export=download&id=1f_HwJWC_1HFzgAjKAWKwkuxgjkhkXrVg\""
      ],
      "execution_count": 2,
      "outputs": [
        {
          "output_type": "stream",
          "name": "stdout",
          "text": [
            "  % Total    % Received % Xferd  Average Speed   Time    Time     Time  Current\n",
            "                                 Dload  Upload   Total   Spent    Left  Speed\n",
            "100   388    0   388    0     0    477      0 --:--:-- --:--:-- --:--:--   477\n",
            "100  385k  100  385k    0     0   288k      0  0:00:01  0:00:01 --:--:--  288k\n"
          ]
        }
      ]
    },
    {
      "cell_type": "code",
      "metadata": {
        "colab": {
          "base_uri": "https://localhost:8080/"
        },
        "id": "QoGzmPG2InzM",
        "outputId": "5620966c-9262-4a58-eec2-cf11a3d97335"
      },
      "source": [
        "!curl -L -o \"u.item\" \"https://drive.google.com/uc?export=download&id=10YLhxkO2-M_flQtyo9OYV4nT9IvSESuz\""
      ],
      "execution_count": 3,
      "outputs": [
        {
          "output_type": "stream",
          "name": "stdout",
          "text": [
            "  % Total    % Received % Xferd  Average Speed   Time    Time     Time  Current\n",
            "                                 Dload  Upload   Total   Spent    Left  Speed\n",
            "100   388    0   388    0     0    554      0 --:--:-- --:--:-- --:--:--   553\n",
            "100  230k  100  230k    0     0   191k      0  0:00:01  0:00:01 --:--:--  191k\n"
          ]
        }
      ]
    },
    {
      "cell_type": "markdown",
      "metadata": {
        "id": "kluVF2eJIyjq"
      },
      "source": [
        "Los archivos **u1.base** y **u1.test** tienen tuplas {usuario, item, rating, timestamp}, que es la información de preferencias de usuarios sobre películas en una muestra del dataset [movielens](https://grouplens.org/datasets/movielens/)."
      ]
    },
    {
      "cell_type": "markdown",
      "metadata": {
        "id": "uopKG59rJWM9"
      },
      "source": [
        "## Paso 2:\n",
        "\n",
        "Instalamos pyreclab utilizando pip."
      ]
    },
    {
      "cell_type": "code",
      "metadata": {
        "colab": {
          "base_uri": "https://localhost:8080/"
        },
        "id": "hi9L5FZdJWfI",
        "outputId": "5a79810d-d87e-40bd-9ea3-4f4e54799bef"
      },
      "source": [
        "!pip install pyreclab --upgrade"
      ],
      "execution_count": 4,
      "outputs": [
        {
          "output_type": "stream",
          "name": "stdout",
          "text": [
            "Collecting pyreclab\n",
            "  Downloading pyreclab-0.1.15-cp37-cp37m-manylinux2010_x86_64.whl (234 kB)\n",
            "\u001b[?25l\r\u001b[K     |█▍                              | 10 kB 21.7 MB/s eta 0:00:01\r\u001b[K     |██▉                             | 20 kB 10.4 MB/s eta 0:00:01\r\u001b[K     |████▏                           | 30 kB 8.6 MB/s eta 0:00:01\r\u001b[K     |█████▋                          | 40 kB 8.0 MB/s eta 0:00:01\r\u001b[K     |███████                         | 51 kB 4.3 MB/s eta 0:00:01\r\u001b[K     |████████▍                       | 61 kB 4.5 MB/s eta 0:00:01\r\u001b[K     |█████████▊                      | 71 kB 4.7 MB/s eta 0:00:01\r\u001b[K     |███████████▏                    | 81 kB 5.3 MB/s eta 0:00:01\r\u001b[K     |████████████▋                   | 92 kB 4.0 MB/s eta 0:00:01\r\u001b[K     |██████████████                  | 102 kB 4.2 MB/s eta 0:00:01\r\u001b[K     |███████████████▍                | 112 kB 4.2 MB/s eta 0:00:01\r\u001b[K     |████████████████▊               | 122 kB 4.2 MB/s eta 0:00:01\r\u001b[K     |██████████████████▏             | 133 kB 4.2 MB/s eta 0:00:01\r\u001b[K     |███████████████████▌            | 143 kB 4.2 MB/s eta 0:00:01\r\u001b[K     |█████████████████████           | 153 kB 4.2 MB/s eta 0:00:01\r\u001b[K     |██████████████████████▍         | 163 kB 4.2 MB/s eta 0:00:01\r\u001b[K     |███████████████████████▊        | 174 kB 4.2 MB/s eta 0:00:01\r\u001b[K     |█████████████████████████▏      | 184 kB 4.2 MB/s eta 0:00:01\r\u001b[K     |██████████████████████████▌     | 194 kB 4.2 MB/s eta 0:00:01\r\u001b[K     |████████████████████████████    | 204 kB 4.2 MB/s eta 0:00:01\r\u001b[K     |█████████████████████████████▎  | 215 kB 4.2 MB/s eta 0:00:01\r\u001b[K     |██████████████████████████████▊ | 225 kB 4.2 MB/s eta 0:00:01\r\u001b[K     |████████████████████████████████| 234 kB 4.2 MB/s \n",
            "\u001b[?25hInstalling collected packages: pyreclab\n",
            "Successfully installed pyreclab-0.1.15\n"
          ]
        }
      ]
    },
    {
      "cell_type": "markdown",
      "metadata": {
        "id": "M28DoBHtN5qD"
      },
      "source": [
        "## Paso 3:\n",
        "\n",
        "Hacemos los imports necesarios para este práctico."
      ]
    },
    {
      "cell_type": "code",
      "metadata": {
        "id": "KQ0jQ_JcN3el"
      },
      "source": [
        "import pyreclab\n",
        "import numpy as np\n",
        "import pandas as pd"
      ],
      "execution_count": 5,
      "outputs": []
    },
    {
      "cell_type": "markdown",
      "metadata": {
        "id": "bmxNQtXvfJy3"
      },
      "source": [
        "# **El dataset**\n",
        "\n",
        "💡 *En prácticos anteriores, vimos como analizar este dataset. Puedes revisarlos en caso de dudas.*"
      ]
    },
    {
      "cell_type": "markdown",
      "metadata": {
        "id": "nAdXLT7haQe1"
      },
      "source": [
        "## Paso 4:\n",
        "\n",
        "Ya que queremos crear una lista de recomendación de items para un usuario en especifico, necesitamos obtener información adicional de cada película tal como título, fecha de lanzamiento, género, etc. Cargaremos el archivo de items descargado \"u.item\" para poder mapear cada identificador de ítem al conjunto de datos que lo describe."
      ]
    },
    {
      "cell_type": "code",
      "metadata": {
        "id": "p0vHiGJheUkB"
      },
      "source": [
        "# Definimos el orden de las columnas\n",
        "info_cols = [ 'movieid', 'title', 'release_date', 'video_release_date', 'IMDb_URL', \\\n",
        "              'unknown', 'Action', 'Adventure', 'Animation', 'Children', 'Comedy', \\\n",
        "              'Crime', 'Documentary', 'Drama', 'Fantasy', 'Film-Noir', 'Horror', \\\n",
        "              'Musical', 'Mystery', 'Romance', 'Sci-Fi', 'Thriller', 'War', 'Western' ]\n",
        "\n",
        "# Asignamos a una variable la estructura de datos de los items\n",
        "info_file = pd.read_csv('u.item', sep='|', index_col = 0, names = info_cols, header=None, encoding='latin-1')"
      ],
      "execution_count": 6,
      "outputs": []
    },
    {
      "cell_type": "markdown",
      "metadata": {
        "id": "z4pjNDlMOOdo"
      },
      "source": [
        "# **Slope One**"
      ]
    },
    {
      "cell_type": "markdown",
      "metadata": {
        "id": "H5sx7xkfQE6W"
      },
      "source": [
        "## Paso 5:\n",
        "\n",
        "Seguiremos un camino muy similar a los ejercicios de User KNN e Item KNN. Crearemos una instancia del algoritmo de recomendación y luego pasaremos a la fase de entrenamiento."
      ]
    },
    {
      "cell_type": "code",
      "metadata": {
        "id": "v3D7CAoyPfko"
      },
      "source": [
        "# Declaramos la instancia SlopeOne\n",
        "mySlopeOne = pyreclab.SlopeOne(dataset='u1.base', dlmchar=b'\\t', header=False, usercol=0, itemcol=1, ratingcol=2)"
      ],
      "execution_count": 7,
      "outputs": []
    },
    {
      "cell_type": "code",
      "metadata": {
        "id": "EhacKomkTs51"
      },
      "source": [
        "# Y enntrenamos\n",
        "mySlopeOne.train()"
      ],
      "execution_count": 8,
      "outputs": []
    },
    {
      "cell_type": "markdown",
      "metadata": {
        "id": "Wnb3DkVVTttZ"
      },
      "source": [
        "## Actividad 2 👓\n",
        "\n",
        "**Pregunta:** Explique qué hace el método `train()` en este caso, dado el modelo teórico. ¿Calcula información?, ¿no hace nada?, ¿ordena los datos? \n",
        "\n",
        "**Respuesta:**\n",
        "Calcula todas las diferencias promedio de los ratings de item por usuario de todo el dataset u1.base"
      ]
    },
    {
      "cell_type": "markdown",
      "metadata": {
        "id": "XqR8bZB2VboJ"
      },
      "source": [
        "## Paso 6:\n",
        "\n",
        "Llego la hora de predecir el rating."
      ]
    },
    {
      "cell_type": "code",
      "metadata": {
        "colab": {
          "base_uri": "https://localhost:8080/"
        },
        "id": "H9yigNx9VYZ3",
        "outputId": "16359e32-3869-44e9-9fb1-840905de04d4"
      },
      "source": [
        "# Esta es la predicción de rating que el usuario ID:457 otorgaría al ítem ID:37\n",
        "# De esta forma podemos comparar el resultado con los prácticos anteriores\n",
        "mySlopeOne.predict(\"457\", \"37\")"
      ],
      "execution_count": 9,
      "outputs": [
        {
          "output_type": "execute_result",
          "data": {
            "text/plain": [
              "3.2408759593963623"
            ]
          },
          "metadata": {},
          "execution_count": 9
        }
      ]
    },
    {
      "cell_type": "code",
      "metadata": {
        "id": "-0ShLi6gYhh_"
      },
      "source": [
        "# También podemos guardar la predicción en una variable\n",
        "prediction = mySlopeOne.predict(\"457\", \"37\")"
      ],
      "execution_count": 10,
      "outputs": []
    },
    {
      "cell_type": "code",
      "metadata": {
        "colab": {
          "base_uri": "https://localhost:8080/",
          "height": 424
        },
        "id": "2yFtdiVcUcKW",
        "outputId": "5bcfc80c-f2fc-4f10-e032-85d81a106396"
      },
      "source": [
        "# Podemos comprobar las peliculas rankeadas por el usuario ID:457\n",
        "# Que ciertamente ha participado activamente (¡156 items!)\n",
        "train_file = pd.read_csv('u1.base', sep='\\t', names = ['userid', 'itemid', 'rating', 'timestamp'], header=None)\n",
        "train_file[train_file['userid'] == 457]"
      ],
      "execution_count": 11,
      "outputs": [
        {
          "output_type": "execute_result",
          "data": {
            "text/html": [
              "<div>\n",
              "<style scoped>\n",
              "    .dataframe tbody tr th:only-of-type {\n",
              "        vertical-align: middle;\n",
              "    }\n",
              "\n",
              "    .dataframe tbody tr th {\n",
              "        vertical-align: top;\n",
              "    }\n",
              "\n",
              "    .dataframe thead th {\n",
              "        text-align: right;\n",
              "    }\n",
              "</style>\n",
              "<table border=\"1\" class=\"dataframe\">\n",
              "  <thead>\n",
              "    <tr style=\"text-align: right;\">\n",
              "      <th></th>\n",
              "      <th>userid</th>\n",
              "      <th>itemid</th>\n",
              "      <th>rating</th>\n",
              "      <th>timestamp</th>\n",
              "    </tr>\n",
              "  </thead>\n",
              "  <tbody>\n",
              "    <tr>\n",
              "      <th>37269</th>\n",
              "      <td>457</td>\n",
              "      <td>1</td>\n",
              "      <td>4</td>\n",
              "      <td>882393244</td>\n",
              "    </tr>\n",
              "    <tr>\n",
              "      <th>37270</th>\n",
              "      <td>457</td>\n",
              "      <td>7</td>\n",
              "      <td>4</td>\n",
              "      <td>882393278</td>\n",
              "    </tr>\n",
              "    <tr>\n",
              "      <th>37271</th>\n",
              "      <td>457</td>\n",
              "      <td>9</td>\n",
              "      <td>5</td>\n",
              "      <td>882393485</td>\n",
              "    </tr>\n",
              "    <tr>\n",
              "      <th>37272</th>\n",
              "      <td>457</td>\n",
              "      <td>11</td>\n",
              "      <td>4</td>\n",
              "      <td>882397020</td>\n",
              "    </tr>\n",
              "    <tr>\n",
              "      <th>37273</th>\n",
              "      <td>457</td>\n",
              "      <td>13</td>\n",
              "      <td>3</td>\n",
              "      <td>882393883</td>\n",
              "    </tr>\n",
              "    <tr>\n",
              "      <th>...</th>\n",
              "      <td>...</td>\n",
              "      <td>...</td>\n",
              "      <td>...</td>\n",
              "      <td>...</td>\n",
              "    </tr>\n",
              "    <tr>\n",
              "      <th>37420</th>\n",
              "      <td>457</td>\n",
              "      <td>1047</td>\n",
              "      <td>2</td>\n",
              "      <td>882395964</td>\n",
              "    </tr>\n",
              "    <tr>\n",
              "      <th>37421</th>\n",
              "      <td>457</td>\n",
              "      <td>1119</td>\n",
              "      <td>4</td>\n",
              "      <td>882398308</td>\n",
              "    </tr>\n",
              "    <tr>\n",
              "      <th>37422</th>\n",
              "      <td>457</td>\n",
              "      <td>1168</td>\n",
              "      <td>5</td>\n",
              "      <td>882548761</td>\n",
              "    </tr>\n",
              "    <tr>\n",
              "      <th>37423</th>\n",
              "      <td>457</td>\n",
              "      <td>1210</td>\n",
              "      <td>4</td>\n",
              "      <td>882549905</td>\n",
              "    </tr>\n",
              "    <tr>\n",
              "      <th>37424</th>\n",
              "      <td>457</td>\n",
              "      <td>1221</td>\n",
              "      <td>4</td>\n",
              "      <td>882549438</td>\n",
              "    </tr>\n",
              "  </tbody>\n",
              "</table>\n",
              "<p>156 rows × 4 columns</p>\n",
              "</div>"
            ],
            "text/plain": [
              "       userid  itemid  rating  timestamp\n",
              "37269     457       1       4  882393244\n",
              "37270     457       7       4  882393278\n",
              "37271     457       9       5  882393485\n",
              "37272     457      11       4  882397020\n",
              "37273     457      13       3  882393883\n",
              "...       ...     ...     ...        ...\n",
              "37420     457    1047       2  882395964\n",
              "37421     457    1119       4  882398308\n",
              "37422     457    1168       5  882548761\n",
              "37423     457    1210       4  882549905\n",
              "37424     457    1221       4  882549438\n",
              "\n",
              "[156 rows x 4 columns]"
            ]
          },
          "metadata": {},
          "execution_count": 11
        }
      ]
    },
    {
      "cell_type": "code",
      "metadata": {
        "colab": {
          "base_uri": "https://localhost:8080/",
          "height": 269
        },
        "id": "liVoMHlAYhH_",
        "outputId": "efcbef77-26c6-4593-d605-da6f0f705096"
      },
      "source": [
        "# Y también cuáles usuarios han rankeado la pelicula ID:37\n",
        "train_file[train_file['itemid'] == 37]"
      ],
      "execution_count": 12,
      "outputs": [
        {
          "output_type": "execute_result",
          "data": {
            "text/html": [
              "<div>\n",
              "<style scoped>\n",
              "    .dataframe tbody tr th:only-of-type {\n",
              "        vertical-align: middle;\n",
              "    }\n",
              "\n",
              "    .dataframe tbody tr th {\n",
              "        vertical-align: top;\n",
              "    }\n",
              "\n",
              "    .dataframe thead th {\n",
              "        text-align: right;\n",
              "    }\n",
              "</style>\n",
              "<table border=\"1\" class=\"dataframe\">\n",
              "  <thead>\n",
              "    <tr style=\"text-align: right;\">\n",
              "      <th></th>\n",
              "      <th>userid</th>\n",
              "      <th>itemid</th>\n",
              "      <th>rating</th>\n",
              "      <th>timestamp</th>\n",
              "    </tr>\n",
              "  </thead>\n",
              "  <tbody>\n",
              "    <tr>\n",
              "      <th>1302</th>\n",
              "      <td>13</td>\n",
              "      <td>37</td>\n",
              "      <td>1</td>\n",
              "      <td>882397011</td>\n",
              "    </tr>\n",
              "    <tr>\n",
              "      <th>14851</th>\n",
              "      <td>201</td>\n",
              "      <td>37</td>\n",
              "      <td>2</td>\n",
              "      <td>884114635</td>\n",
              "    </tr>\n",
              "    <tr>\n",
              "      <th>19670</th>\n",
              "      <td>268</td>\n",
              "      <td>37</td>\n",
              "      <td>3</td>\n",
              "      <td>876514002</td>\n",
              "    </tr>\n",
              "    <tr>\n",
              "      <th>29489</th>\n",
              "      <td>363</td>\n",
              "      <td>37</td>\n",
              "      <td>2</td>\n",
              "      <td>891498510</td>\n",
              "    </tr>\n",
              "    <tr>\n",
              "      <th>31084</th>\n",
              "      <td>385</td>\n",
              "      <td>37</td>\n",
              "      <td>4</td>\n",
              "      <td>880013483</td>\n",
              "    </tr>\n",
              "    <tr>\n",
              "      <th>32996</th>\n",
              "      <td>405</td>\n",
              "      <td>37</td>\n",
              "      <td>1</td>\n",
              "      <td>885548384</td>\n",
              "    </tr>\n",
              "    <tr>\n",
              "      <th>62777</th>\n",
              "      <td>773</td>\n",
              "      <td>37</td>\n",
              "      <td>3</td>\n",
              "      <td>888540352</td>\n",
              "    </tr>\n",
              "  </tbody>\n",
              "</table>\n",
              "</div>"
            ],
            "text/plain": [
              "       userid  itemid  rating  timestamp\n",
              "1302       13      37       1  882397011\n",
              "14851     201      37       2  884114635\n",
              "19670     268      37       3  876514002\n",
              "29489     363      37       2  891498510\n",
              "31084     385      37       4  880013483\n",
              "32996     405      37       1  885548384\n",
              "62777     773      37       3  888540352"
            ]
          },
          "metadata": {},
          "execution_count": 12
        }
      ]
    },
    {
      "cell_type": "markdown",
      "metadata": {
        "id": "u2P14hwFXytK"
      },
      "source": [
        "## Actividad 3 👓\n",
        "\n",
        "Haremos un pequeño experimento para entender mejor como funciona Slope One. Gracias al ejercicio anterior, sabemos que el usuario 457 ya ha asignado el mejor rating (5 ⭐) a las dos peliculas ID:9 e ID:1168. Comparemos.\n",
        "\n",
        "**Pregunta:** ¿Cómo se explican estos resultados?  \n",
        "\n",
        "**Respuesta:** abajo"
      ]
    },
    {
      "cell_type": "code",
      "metadata": {
        "colab": {
          "base_uri": "https://localhost:8080/"
        },
        "id": "gaqUjAQaVseB",
        "outputId": "c9c7cfde-3876-408a-8382-9b84ec8eaa54"
      },
      "source": [
        "prediction_id9 = mySlopeOne.predict(\"457\", \"9\")\n",
        "prediction_id1168 = mySlopeOne.predict(\"457\", \"1168\")\n",
        "\n",
        "print('Prediction for ID:9 :', prediction_id9)\n",
        "print('Prediction for ID:1168 :', prediction_id1168)"
      ],
      "execution_count": 13,
      "outputs": [
        {
          "output_type": "stream",
          "name": "stdout",
          "text": [
            "Prediction for ID:9 : 4.530702114105225\n",
            "Prediction for ID:1168 : 4.166153907775879\n"
          ]
        }
      ]
    },
    {
      "cell_type": "code",
      "metadata": {
        "colab": {
          "base_uri": "https://localhost:8080/",
          "height": 424
        },
        "id": "NyBldDl6edqw",
        "outputId": "e256bebb-266a-4702-9102-5291a00c84a6"
      },
      "source": [
        "#para ver los otros rating de item 9\n",
        "train_file[train_file['itemid'] == 9]"
      ],
      "execution_count": 14,
      "outputs": [
        {
          "output_type": "execute_result",
          "data": {
            "text/html": [
              "<div>\n",
              "<style scoped>\n",
              "    .dataframe tbody tr th:only-of-type {\n",
              "        vertical-align: middle;\n",
              "    }\n",
              "\n",
              "    .dataframe tbody tr th {\n",
              "        vertical-align: top;\n",
              "    }\n",
              "\n",
              "    .dataframe thead th {\n",
              "        text-align: right;\n",
              "    }\n",
              "</style>\n",
              "<table border=\"1\" class=\"dataframe\">\n",
              "  <thead>\n",
              "    <tr style=\"text-align: right;\">\n",
              "      <th></th>\n",
              "      <th>userid</th>\n",
              "      <th>itemid</th>\n",
              "      <th>rating</th>\n",
              "      <th>timestamp</th>\n",
              "    </tr>\n",
              "  </thead>\n",
              "  <tbody>\n",
              "    <tr>\n",
              "      <th>449</th>\n",
              "      <td>6</td>\n",
              "      <td>9</td>\n",
              "      <td>4</td>\n",
              "      <td>883599205</td>\n",
              "    </tr>\n",
              "    <tr>\n",
              "      <th>604</th>\n",
              "      <td>7</td>\n",
              "      <td>9</td>\n",
              "      <td>5</td>\n",
              "      <td>891351432</td>\n",
              "    </tr>\n",
              "    <tr>\n",
              "      <th>976</th>\n",
              "      <td>10</td>\n",
              "      <td>9</td>\n",
              "      <td>4</td>\n",
              "      <td>877889005</td>\n",
              "    </tr>\n",
              "    <tr>\n",
              "      <th>1116</th>\n",
              "      <td>11</td>\n",
              "      <td>9</td>\n",
              "      <td>5</td>\n",
              "      <td>891902970</td>\n",
              "    </tr>\n",
              "    <tr>\n",
              "      <th>1291</th>\n",
              "      <td>13</td>\n",
              "      <td>9</td>\n",
              "      <td>3</td>\n",
              "      <td>882140205</td>\n",
              "    </tr>\n",
              "    <tr>\n",
              "      <th>...</th>\n",
              "      <td>...</td>\n",
              "      <td>...</td>\n",
              "      <td>...</td>\n",
              "      <td>...</td>\n",
              "    </tr>\n",
              "    <tr>\n",
              "      <th>79427</th>\n",
              "      <td>937</td>\n",
              "      <td>9</td>\n",
              "      <td>5</td>\n",
              "      <td>876769373</td>\n",
              "    </tr>\n",
              "    <tr>\n",
              "      <th>79469</th>\n",
              "      <td>938</td>\n",
              "      <td>9</td>\n",
              "      <td>3</td>\n",
              "      <td>891356413</td>\n",
              "    </tr>\n",
              "    <tr>\n",
              "      <th>79575</th>\n",
              "      <td>939</td>\n",
              "      <td>9</td>\n",
              "      <td>5</td>\n",
              "      <td>880260745</td>\n",
              "    </tr>\n",
              "    <tr>\n",
              "      <th>79627</th>\n",
              "      <td>940</td>\n",
              "      <td>9</td>\n",
              "      <td>3</td>\n",
              "      <td>885921687</td>\n",
              "    </tr>\n",
              "    <tr>\n",
              "      <th>79833</th>\n",
              "      <td>943</td>\n",
              "      <td>9</td>\n",
              "      <td>3</td>\n",
              "      <td>875501960</td>\n",
              "    </tr>\n",
              "  </tbody>\n",
              "</table>\n",
              "<p>249 rows × 4 columns</p>\n",
              "</div>"
            ],
            "text/plain": [
              "       userid  itemid  rating  timestamp\n",
              "449         6       9       4  883599205\n",
              "604         7       9       5  891351432\n",
              "976        10       9       4  877889005\n",
              "1116       11       9       5  891902970\n",
              "1291       13       9       3  882140205\n",
              "...       ...     ...     ...        ...\n",
              "79427     937       9       5  876769373\n",
              "79469     938       9       3  891356413\n",
              "79575     939       9       5  880260745\n",
              "79627     940       9       3  885921687\n",
              "79833     943       9       3  875501960\n",
              "\n",
              "[249 rows x 4 columns]"
            ]
          },
          "metadata": {},
          "execution_count": 14
        }
      ]
    },
    {
      "cell_type": "code",
      "metadata": {
        "colab": {
          "base_uri": "https://localhost:8080/",
          "height": 551
        },
        "id": "5NR_d11Lejgy",
        "outputId": "d5cc92df-23f6-4057-f0d6-aecfe52d5d73"
      },
      "source": [
        "#para ver los otros rating de item 1168\n",
        "train_file[train_file['itemid'] == 1168]"
      ],
      "execution_count": 16,
      "outputs": [
        {
          "output_type": "execute_result",
          "data": {
            "text/html": [
              "<div>\n",
              "<style scoped>\n",
              "    .dataframe tbody tr th:only-of-type {\n",
              "        vertical-align: middle;\n",
              "    }\n",
              "\n",
              "    .dataframe tbody tr th {\n",
              "        vertical-align: top;\n",
              "    }\n",
              "\n",
              "    .dataframe thead th {\n",
              "        text-align: right;\n",
              "    }\n",
              "</style>\n",
              "<table border=\"1\" class=\"dataframe\">\n",
              "  <thead>\n",
              "    <tr style=\"text-align: right;\">\n",
              "      <th></th>\n",
              "      <th>userid</th>\n",
              "      <th>itemid</th>\n",
              "      <th>rating</th>\n",
              "      <th>timestamp</th>\n",
              "    </tr>\n",
              "  </thead>\n",
              "  <tbody>\n",
              "    <tr>\n",
              "      <th>6664</th>\n",
              "      <td>85</td>\n",
              "      <td>1168</td>\n",
              "      <td>3</td>\n",
              "      <td>882995908</td>\n",
              "    </tr>\n",
              "    <tr>\n",
              "      <th>9646</th>\n",
              "      <td>122</td>\n",
              "      <td>1168</td>\n",
              "      <td>4</td>\n",
              "      <td>879270902</td>\n",
              "    </tr>\n",
              "    <tr>\n",
              "      <th>20141</th>\n",
              "      <td>269</td>\n",
              "      <td>1168</td>\n",
              "      <td>2</td>\n",
              "      <td>891448386</td>\n",
              "    </tr>\n",
              "    <tr>\n",
              "      <th>21600</th>\n",
              "      <td>280</td>\n",
              "      <td>1168</td>\n",
              "      <td>5</td>\n",
              "      <td>891702544</td>\n",
              "    </tr>\n",
              "    <tr>\n",
              "      <th>29685</th>\n",
              "      <td>363</td>\n",
              "      <td>1168</td>\n",
              "      <td>2</td>\n",
              "      <td>891496587</td>\n",
              "    </tr>\n",
              "    <tr>\n",
              "      <th>30647</th>\n",
              "      <td>378</td>\n",
              "      <td>1168</td>\n",
              "      <td>3</td>\n",
              "      <td>880333383</td>\n",
              "    </tr>\n",
              "    <tr>\n",
              "      <th>30899</th>\n",
              "      <td>380</td>\n",
              "      <td>1168</td>\n",
              "      <td>3</td>\n",
              "      <td>885479833</td>\n",
              "    </tr>\n",
              "    <tr>\n",
              "      <th>31698</th>\n",
              "      <td>389</td>\n",
              "      <td>1168</td>\n",
              "      <td>3</td>\n",
              "      <td>880088717</td>\n",
              "    </tr>\n",
              "    <tr>\n",
              "      <th>32183</th>\n",
              "      <td>393</td>\n",
              "      <td>1168</td>\n",
              "      <td>3</td>\n",
              "      <td>889729346</td>\n",
              "    </tr>\n",
              "    <tr>\n",
              "      <th>34386</th>\n",
              "      <td>416</td>\n",
              "      <td>1168</td>\n",
              "      <td>4</td>\n",
              "      <td>886318953</td>\n",
              "    </tr>\n",
              "    <tr>\n",
              "      <th>37422</th>\n",
              "      <td>457</td>\n",
              "      <td>1168</td>\n",
              "      <td>5</td>\n",
              "      <td>882548761</td>\n",
              "    </tr>\n",
              "    <tr>\n",
              "      <th>41945</th>\n",
              "      <td>532</td>\n",
              "      <td>1168</td>\n",
              "      <td>4</td>\n",
              "      <td>888630436</td>\n",
              "    </tr>\n",
              "    <tr>\n",
              "      <th>52859</th>\n",
              "      <td>659</td>\n",
              "      <td>1168</td>\n",
              "      <td>4</td>\n",
              "      <td>891386641</td>\n",
              "    </tr>\n",
              "    <tr>\n",
              "      <th>56981</th>\n",
              "      <td>707</td>\n",
              "      <td>1168</td>\n",
              "      <td>3</td>\n",
              "      <td>886287990</td>\n",
              "    </tr>\n",
              "    <tr>\n",
              "      <th>57541</th>\n",
              "      <td>711</td>\n",
              "      <td>1168</td>\n",
              "      <td>4</td>\n",
              "      <td>879995753</td>\n",
              "    </tr>\n",
              "    <tr>\n",
              "      <th>69673</th>\n",
              "      <td>846</td>\n",
              "      <td>1168</td>\n",
              "      <td>4</td>\n",
              "      <td>883950569</td>\n",
              "    </tr>\n",
              "  </tbody>\n",
              "</table>\n",
              "</div>"
            ],
            "text/plain": [
              "       userid  itemid  rating  timestamp\n",
              "6664       85    1168       3  882995908\n",
              "9646      122    1168       4  879270902\n",
              "20141     269    1168       2  891448386\n",
              "21600     280    1168       5  891702544\n",
              "29685     363    1168       2  891496587\n",
              "30647     378    1168       3  880333383\n",
              "30899     380    1168       3  885479833\n",
              "31698     389    1168       3  880088717\n",
              "32183     393    1168       3  889729346\n",
              "34386     416    1168       4  886318953\n",
              "37422     457    1168       5  882548761\n",
              "41945     532    1168       4  888630436\n",
              "52859     659    1168       4  891386641\n",
              "56981     707    1168       3  886287990\n",
              "57541     711    1168       4  879995753\n",
              "69673     846    1168       4  883950569"
            ]
          },
          "metadata": {},
          "execution_count": 16
        }
      ]
    },
    {
      "cell_type": "markdown",
      "metadata": {
        "id": "kd1n14fFfVXk"
      },
      "source": [
        "**Respuesta:** Si bien el usuario 457 le dió 5 estrellas a los item 9 y 1168, en la predicción aparecen para item 9: 4.53 y para item 1168: 4.16, esto es debido al algoritmo de slope one, ya que al realizar las diferencias media, depende de esos rating para calcular la prediccióón. En celda anterior se observan los otros rating para el item 9 e item 1168, observando mayor cantidad de rating menos de 5, para ambos casos."
      ]
    },
    {
      "cell_type": "markdown",
      "metadata": {
        "id": "N8dIE2n_YYnV"
      },
      "source": [
        "## Paso 7:\n",
        "\n",
        "Generaremos ahora una lista ordenada de las top-N recomendaciones, dado un usuario.\n",
        "\n"
      ]
    },
    {
      "cell_type": "code",
      "metadata": {
        "colab": {
          "base_uri": "https://localhost:8080/"
        },
        "id": "CVcJ1I1nZaK1",
        "outputId": "fa373d8b-9e95-40c3-f615-bb1961a1e552"
      },
      "source": [
        "# Mediante el método recommend() genereremos una lista top-5 recomendaciones para el usuario ID:457\n",
        "reclist_slopeone = mySlopeOne.recommend(\"457\", 5)\n",
        "\n",
        "# Y visualizaremos el resultado\n",
        "print('Lista de items según ID:', reclist_slopeone)"
      ],
      "execution_count": 17,
      "outputs": [
        {
          "output_type": "stream",
          "name": "stdout",
          "text": [
            "Lista de items según ID: ['1592', '1589', '1656', '1431', '1653']\n"
          ]
        }
      ]
    },
    {
      "cell_type": "code",
      "metadata": {
        "colab": {
          "base_uri": "https://localhost:8080/"
        },
        "id": "BFdRZKQcZtHE",
        "outputId": "7b439201-0309-446c-cac2-6493bf16fcc9"
      },
      "source": [
        "# Lo convertimos a numpy array\n",
        "recmovies_slopeone = np.array(reclist_slopeone).astype(int)\n",
        "\n",
        "# Utilizamos la estructura de datos de los items para encontrar los títulos recomendados\n",
        "print('Lista de items por nombre:')\n",
        "info_file.loc[recmovies_slopeone]['title']"
      ],
      "execution_count": 18,
      "outputs": [
        {
          "output_type": "stream",
          "name": "stdout",
          "text": [
            "Lista de items por nombre:\n"
          ]
        },
        {
          "output_type": "execute_result",
          "data": {
            "text/plain": [
              "movieid\n",
              "1592                               Magic Hour, The (1998)\n",
              "1589                                   Schizopolis (1996)\n",
              "1656                                   Little City (1998)\n",
              "1431                                  Legal Deceit (1997)\n",
              "1653    Entertaining Angels: The Dorothy Day Story (1996)\n",
              "Name: title, dtype: object"
            ]
          },
          "metadata": {},
          "execution_count": 18
        }
      ]
    },
    {
      "cell_type": "markdown",
      "metadata": {
        "id": "NlX6FLTxdPRm"
      },
      "source": [
        "## Actividad 4 👩🏻‍💻\n",
        "\n",
        "Genera una nueva recomendacion, modificando los hiperparametros de usuario y topN a tu elección.\n",
        "\n",
        "**Pregunta:** ¿Ves una diferencia en la recomendación entre el nuevo usuario y el usuario ID:457?\n",
        "\n",
        "**Respuesta:** abajo"
      ]
    },
    {
      "cell_type": "code",
      "metadata": {
        "id": "YQM7mfwDdY3j",
        "colab": {
          "base_uri": "https://localhost:8080/"
        },
        "outputId": "b41f70c9-25af-42f4-b121-33de9d8f39a1"
      },
      "source": [
        "# Escribe el nuevo codigo aqui\n",
        "#nuevo usuario\n",
        "reclist_slopeone_new = mySlopeOne.recommend(\"85\", 5)\n",
        "\n",
        "# Y visualizaremos el resultado\n",
        "print('Lista de items según ID:', reclist_slopeone_new)"
      ],
      "execution_count": 21,
      "outputs": [
        {
          "output_type": "stream",
          "name": "stdout",
          "text": [
            "Lista de items según ID: ['1536', '1500', '47', '46', '44']\n"
          ]
        }
      ]
    },
    {
      "cell_type": "code",
      "metadata": {
        "colab": {
          "base_uri": "https://localhost:8080/",
          "height": 424
        },
        "id": "qzBiGCwihI_O",
        "outputId": "88800b55-43af-4b11-8318-65447feac400"
      },
      "source": [
        "train_file[train_file['userid'] == 85]"
      ],
      "execution_count": 22,
      "outputs": [
        {
          "output_type": "execute_result",
          "data": {
            "text/html": [
              "<div>\n",
              "<style scoped>\n",
              "    .dataframe tbody tr th:only-of-type {\n",
              "        vertical-align: middle;\n",
              "    }\n",
              "\n",
              "    .dataframe tbody tr th {\n",
              "        vertical-align: top;\n",
              "    }\n",
              "\n",
              "    .dataframe thead th {\n",
              "        text-align: right;\n",
              "    }\n",
              "</style>\n",
              "<table border=\"1\" class=\"dataframe\">\n",
              "  <thead>\n",
              "    <tr style=\"text-align: right;\">\n",
              "      <th></th>\n",
              "      <th>userid</th>\n",
              "      <th>itemid</th>\n",
              "      <th>rating</th>\n",
              "      <th>timestamp</th>\n",
              "    </tr>\n",
              "  </thead>\n",
              "  <tbody>\n",
              "    <tr>\n",
              "      <th>6457</th>\n",
              "      <td>85</td>\n",
              "      <td>8</td>\n",
              "      <td>4</td>\n",
              "      <td>879454952</td>\n",
              "    </tr>\n",
              "    <tr>\n",
              "      <th>6458</th>\n",
              "      <td>85</td>\n",
              "      <td>9</td>\n",
              "      <td>4</td>\n",
              "      <td>879456308</td>\n",
              "    </tr>\n",
              "    <tr>\n",
              "      <th>6459</th>\n",
              "      <td>85</td>\n",
              "      <td>13</td>\n",
              "      <td>3</td>\n",
              "      <td>879452866</td>\n",
              "    </tr>\n",
              "    <tr>\n",
              "      <th>6460</th>\n",
              "      <td>85</td>\n",
              "      <td>23</td>\n",
              "      <td>4</td>\n",
              "      <td>879454272</td>\n",
              "    </tr>\n",
              "    <tr>\n",
              "      <th>6461</th>\n",
              "      <td>85</td>\n",
              "      <td>25</td>\n",
              "      <td>2</td>\n",
              "      <td>879452769</td>\n",
              "    </tr>\n",
              "    <tr>\n",
              "      <th>...</th>\n",
              "      <td>...</td>\n",
              "      <td>...</td>\n",
              "      <td>...</td>\n",
              "      <td>...</td>\n",
              "    </tr>\n",
              "    <tr>\n",
              "      <th>6663</th>\n",
              "      <td>85</td>\n",
              "      <td>1167</td>\n",
              "      <td>3</td>\n",
              "      <td>879829209</td>\n",
              "    </tr>\n",
              "    <tr>\n",
              "      <th>6664</th>\n",
              "      <td>85</td>\n",
              "      <td>1168</td>\n",
              "      <td>3</td>\n",
              "      <td>882995908</td>\n",
              "    </tr>\n",
              "    <tr>\n",
              "      <th>6665</th>\n",
              "      <td>85</td>\n",
              "      <td>1169</td>\n",
              "      <td>4</td>\n",
              "      <td>879454952</td>\n",
              "    </tr>\n",
              "    <tr>\n",
              "      <th>6666</th>\n",
              "      <td>85</td>\n",
              "      <td>1171</td>\n",
              "      <td>3</td>\n",
              "      <td>879452638</td>\n",
              "    </tr>\n",
              "    <tr>\n",
              "      <th>6667</th>\n",
              "      <td>85</td>\n",
              "      <td>1174</td>\n",
              "      <td>3</td>\n",
              "      <td>879454633</td>\n",
              "    </tr>\n",
              "  </tbody>\n",
              "</table>\n",
              "<p>211 rows × 4 columns</p>\n",
              "</div>"
            ],
            "text/plain": [
              "      userid  itemid  rating  timestamp\n",
              "6457      85       8       4  879454952\n",
              "6458      85       9       4  879456308\n",
              "6459      85      13       3  879452866\n",
              "6460      85      23       4  879454272\n",
              "6461      85      25       2  879452769\n",
              "...      ...     ...     ...        ...\n",
              "6663      85    1167       3  879829209\n",
              "6664      85    1168       3  882995908\n",
              "6665      85    1169       4  879454952\n",
              "6666      85    1171       3  879452638\n",
              "6667      85    1174       3  879454633\n",
              "\n",
              "[211 rows x 4 columns]"
            ]
          },
          "metadata": {},
          "execution_count": 22
        }
      ]
    },
    {
      "cell_type": "markdown",
      "metadata": {
        "id": "k0ZNTdPMhybL"
      },
      "source": [
        "**Respuesta**: si se observan diferencias, ya que depende de que valoraciones (rating) que se le hayan dado a los items, pero por otros usuarios, que hayan consumido esos items, similares a los rating dados por este usuario."
      ]
    },
    {
      "cell_type": "markdown",
      "metadata": {
        "id": "iU2NlezaiIur"
      },
      "source": [
        "## Actividad 5 👩🏻‍💻\n",
        "\n",
        "Dado el usuario ID:44, cree dos listas de películas recomendadas; la primera utilizando el algoritmo Most Popular y la segunda utilizando el algoritmo Slope One.\n",
        "\n",
        "**Pregunta:** Realice un analisis apreciativo de las similitudes y diferencias entre ambas recomendaciones.\n",
        "\n",
        "**Respuesta:**Abajo"
      ]
    },
    {
      "cell_type": "markdown",
      "metadata": {
        "id": "AD4r9CGEi6wp"
      },
      "source": [
        "Most Popular"
      ]
    },
    {
      "cell_type": "code",
      "metadata": {
        "id": "Rxk9ySLQiMC4"
      },
      "source": [
        "# Escribe el nuevo codigo aqui\n",
        "# Definicion de objeto \"most popular\"\n",
        "most_popular = pyreclab.MostPopular(dataset='u1.base',\n",
        "                   dlmchar=b'\\t',\n",
        "                   header=False,\n",
        "                   usercol=0,\n",
        "                   itemcol=1,\n",
        "                   ratingcol=2)\n",
        "\n",
        "# en teoria no es \"entrenar\" , objeto \"most_popular\" solo registra los items más populares en el set de entrenamiento  \n",
        "most_popular.train()"
      ],
      "execution_count": 26,
      "outputs": []
    },
    {
      "cell_type": "code",
      "metadata": {
        "colab": {
          "base_uri": "https://localhost:8080/"
        },
        "id": "Z-NyB3tojgSS",
        "outputId": "2d967d48-4f72-4dea-86ae-599ba8b1b12a"
      },
      "source": [
        "# Calcular las recomendaciones para un usuario en particular (id =2)\n",
        "user_id = 44\n",
        "top_n = 5\n",
        "\n",
        "ranking = [int(r) for r in most_popular.recommend(str(user_id), top_n, includeRated=False)]\n",
        "print('Recommendation for user {}: {}'.format(user_id, ranking))"
      ],
      "execution_count": 27,
      "outputs": [
        {
          "output_type": "stream",
          "name": "stdout",
          "text": [
            "Recommendation for user 44: [50, 100, 181, 286, 1]\n"
          ]
        }
      ]
    },
    {
      "cell_type": "markdown",
      "metadata": {
        "id": "nqojEZMljxsM"
      },
      "source": [
        "Slope One"
      ]
    },
    {
      "cell_type": "code",
      "metadata": {
        "colab": {
          "base_uri": "https://localhost:8080/"
        },
        "id": "GGCOtAs1jzQv",
        "outputId": "3e485b78-dbf4-4d24-c703-b45c7f138004"
      },
      "source": [
        "# Escribe el nuevo codigo aqui\n",
        "#nuevo usuario\n",
        "reclist_slopeone_new1 = mySlopeOne.recommend(\"44\", 5)\n",
        "\n",
        "# Y visualizaremos el resultado\n",
        "print('Lista de items según ID:', reclist_slopeone_new1)"
      ],
      "execution_count": 28,
      "outputs": [
        {
          "output_type": "stream",
          "name": "stdout",
          "text": [
            "Lista de items según ID: ['1656', '1064', '1643', '1642', '1625']\n"
          ]
        }
      ]
    },
    {
      "cell_type": "markdown",
      "metadata": {
        "id": "Ap5VmaPCsPAE"
      },
      "source": [
        "**Respuesta:** El algoritmo de **Most Popular** se basa en los items más populares por lo que con **Slope One**, que se basa en diferencias medias, se diferencia en la forma de realizar la predicción o recomendación para el usuario, y esto se observa en los resultados anteriores, dando recomendaciones distintas para el mismo usuario. La similitud es que se basan en los items para dar alguna recomendación."
      ]
    }
  ]
}